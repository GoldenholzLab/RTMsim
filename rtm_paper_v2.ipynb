{
 "cells": [
  {
   "cell_type": "code",
   "execution_count": 2,
   "metadata": {},
   "outputs": [
    {
     "name": "stdout",
     "output_type": "stream",
     "text": [
      "Study chances = 24\n"
     ]
    },
    {
     "data": {
      "application/vnd.jupyter.widget-view+json": {
       "model_id": "e89253e5267f4929a6a829e32a3fbb61",
       "version_major": 2,
       "version_minor": 0
      },
      "text/plain": [
       "0it [00:00, ?it/s]"
      ]
     },
     "metadata": {},
     "output_type": "display_data"
    },
    {
     "name": "stderr",
     "output_type": "stream",
     "text": [
      "/Users/danielgoldenholz/Documents/GitHub/RTMsim/RTM_funcs.py:1073: RuntimeWarning: Mean of empty slice\n",
      "  RTMfrac[6] = np.nanmean(PC[np.logical_and(eligible_times,~np.isinf(PC))])\n",
      "/Users/danielgoldenholz/Documents/GitHub/RTMsim/RTM_funcs.py:1073: RuntimeWarning: Mean of empty slice\n",
      "  RTMfrac[6] = np.nanmean(PC[np.logical_and(eligible_times,~np.isinf(PC))])\n",
      "/Users/danielgoldenholz/Documents/GitHub/RTMsim/RTM_funcs.py:1073: RuntimeWarning: Mean of empty slice\n",
      "  RTMfrac[6] = np.nanmean(PC[np.logical_and(eligible_times,~np.isinf(PC))])\n",
      "/Users/danielgoldenholz/Documents/GitHub/RTMsim/RTM_funcs.py:1073: RuntimeWarning: Mean of empty slice\n",
      "  RTMfrac[6] = np.nanmean(PC[np.logical_and(eligible_times,~np.isinf(PC))])\n",
      "/Users/danielgoldenholz/Documents/GitHub/RTMsim/RTM_funcs.py:1073: RuntimeWarning: Mean of empty slice\n",
      "  RTMfrac[6] = np.nanmean(PC[np.logical_and(eligible_times,~np.isinf(PC))])\n",
      "/Users/danielgoldenholz/Documents/GitHub/RTMsim/RTM_funcs.py:1073: RuntimeWarning: Mean of empty slice\n",
      "  RTMfrac[6] = np.nanmean(PC[np.logical_and(eligible_times,~np.isinf(PC))])\n",
      "/Users/danielgoldenholz/Documents/GitHub/RTMsim/RTM_funcs.py:1073: RuntimeWarning: Mean of empty slice\n",
      "  RTMfrac[6] = np.nanmean(PC[np.logical_and(eligible_times,~np.isinf(PC))])\n",
      "/Users/danielgoldenholz/Documents/GitHub/RTMsim/RTM_funcs.py:1073: RuntimeWarning: Mean of empty slice\n",
      "  RTMfrac[6] = np.nanmean(PC[np.logical_and(eligible_times,~np.isinf(PC))])\n",
      "/Users/danielgoldenholz/Documents/GitHub/RTMsim/RTM_funcs.py:1073: RuntimeWarning: Mean of empty slice\n",
      "  RTMfrac[6] = np.nanmean(PC[np.logical_and(eligible_times,~np.isinf(PC))])\n",
      "/Users/danielgoldenholz/miniforge3/envs/deep4/lib/python3.10/site-packages/numpy/core/fromnumeric.py:3432: RuntimeWarning: Mean of empty slice.\n",
      "  return _methods._mean(a, axis=axis, dtype=dtype,\n",
      "/Users/danielgoldenholz/miniforge3/envs/deep4/lib/python3.10/site-packages/numpy/core/fromnumeric.py:3432: RuntimeWarning: Mean of empty slice.\n",
      "  return _methods._mean(a, axis=axis, dtype=dtype,\n",
      "/Users/danielgoldenholz/miniforge3/envs/deep4/lib/python3.10/site-packages/numpy/core/fromnumeric.py:3432: RuntimeWarning: Mean of empty slice.\n",
      "  return _methods._mean(a, axis=axis, dtype=dtype,\n",
      "/Users/danielgoldenholz/miniforge3/envs/deep4/lib/python3.10/site-packages/numpy/core/fromnumeric.py:3432: RuntimeWarning: Mean of empty slice.\n",
      "  return _methods._mean(a, axis=axis, dtype=dtype,\n",
      "/Users/danielgoldenholz/miniforge3/envs/deep4/lib/python3.10/site-packages/numpy/core/fromnumeric.py:3432: RuntimeWarning: Mean of empty slice.\n",
      "  return _methods._mean(a, axis=axis, dtype=dtype,\n",
      "/Users/danielgoldenholz/miniforge3/envs/deep4/lib/python3.10/site-packages/numpy/core/fromnumeric.py:3432: RuntimeWarning: Mean of empty slice.\n",
      "  return _methods._mean(a, axis=axis, dtype=dtype,\n",
      "/Users/danielgoldenholz/miniforge3/envs/deep4/lib/python3.10/site-packages/numpy/core/fromnumeric.py:3432: RuntimeWarning: Mean of empty slice.\n",
      "  return _methods._mean(a, axis=axis, dtype=dtype,\n",
      "/Users/danielgoldenholz/miniforge3/envs/deep4/lib/python3.10/site-packages/numpy/core/fromnumeric.py:3432: RuntimeWarning: Mean of empty slice.\n",
      "  return _methods._mean(a, axis=axis, dtype=dtype,\n",
      "/Users/danielgoldenholz/miniforge3/envs/deep4/lib/python3.10/site-packages/numpy/core/fromnumeric.py:3432: RuntimeWarning: Mean of empty slice.\n",
      "  return _methods._mean(a, axis=axis, dtype=dtype,\n"
     ]
    },
    {
     "name": "stdout",
     "output_type": "stream",
     "text": [
      "fracsSetAll_29_True_1.csv\n"
     ]
    },
    {
     "data": {
      "application/vnd.jupyter.widget-view+json": {
       "model_id": "8f8a6728e1994aafabd2ca425cf2037c",
       "version_major": 2,
       "version_minor": 0
      },
      "text/plain": [
       "0it [00:00, ?it/s]"
      ]
     },
     "metadata": {},
     "output_type": "display_data"
    },
    {
     "name": "stdout",
     "output_type": "stream",
     "text": [
      "fracsSetAll_32_False_3.csv\n",
      "0 1\n"
     ]
    },
    {
     "data": {
      "application/vnd.jupyter.widget-view+json": {
       "model_id": "e7f0739a7af44de2bf0593fa4d81e07f",
       "version_major": 2,
       "version_minor": 0
      },
      "text/plain": [
       "  0%|          | 0/5000 [00:00<?, ?it/s]"
      ]
     },
     "metadata": {},
     "output_type": "display_data"
    },
    {
     "name": "stdout",
     "output_type": "stream",
     "text": [
      "N=400 hist=1 baseTF=True minSz=0 drg=0.2 -> RR50 = 0.4742 MPC = 0.7614\n",
      "(8.744: 21.59+-2.922 30.34+-3.266\n",
      "0 1\n"
     ]
    },
    {
     "data": {
      "application/vnd.jupyter.widget-view+json": {
       "model_id": "8130c28c78b84449a9a89d79f57fd7eb",
       "version_major": 2,
       "version_minor": 0
      },
      "text/plain": [
       "  0%|          | 0/5000 [00:00<?, ?it/s]"
      ]
     },
     "metadata": {},
     "output_type": "display_data"
    },
    {
     "name": "stdout",
     "output_type": "stream",
     "text": [
      "N=400 hist=1 baseTF=True minSz=1 drg=0.2 -> RR50 = 0.5034 MPC = 0.771\n",
      "(9.289: 23.61+-2.99 32.9+-3.312\n",
      "0 1\n"
     ]
    },
    {
     "data": {
      "application/vnd.jupyter.widget-view+json": {
       "model_id": "522269063b614afdbc7eec2aaaf26c5b",
       "version_major": 2,
       "version_minor": 0
      },
      "text/plain": [
       "  0%|          | 0/5000 [00:00<?, ?it/s]"
      ]
     },
     "metadata": {},
     "output_type": "display_data"
    },
    {
     "name": "stdout",
     "output_type": "stream",
     "text": [
      "N=400 hist=1 baseTF=True minSz=2 drg=0.2 -> RR50 = 0.5276 MPC = 0.8084\n",
      "(9.711: 24.6+-3.021 34.31+-3.375\n",
      "0 1\n"
     ]
    },
    {
     "data": {
      "application/vnd.jupyter.widget-view+json": {
       "model_id": "bb48de4c18424d1d8df17601170abc90",
       "version_major": 2,
       "version_minor": 0
      },
      "text/plain": [
       "  0%|          | 0/5000 [00:00<?, ?it/s]"
      ]
     },
     "metadata": {},
     "output_type": "display_data"
    },
    {
     "name": "stdout",
     "output_type": "stream",
     "text": [
      "N=400 hist=1 baseTF=True minSz=3 drg=0.2 -> RR50 = 0.5544 MPC = 0.8282\n",
      "(10.01: 25.07+-3.006 35.08+-3.354\n",
      "0 1\n"
     ]
    },
    {
     "data": {
      "application/vnd.jupyter.widget-view+json": {
       "model_id": "2affa4cf45bc4a048b3ab4b99171cc55",
       "version_major": 2,
       "version_minor": 0
      },
      "text/plain": [
       "  0%|          | 0/5000 [00:00<?, ?it/s]"
      ]
     },
     "metadata": {},
     "output_type": "display_data"
    },
    {
     "name": "stdout",
     "output_type": "stream",
     "text": [
      "N=400 hist=1 baseTF=True minSz=4 drg=0.2 -> RR50 = 0.5746 MPC = 0.8532\n",
      "(10.35: 24.75+-3.057 35.09+-3.391\n",
      "0 1\n"
     ]
    },
    {
     "data": {
      "application/vnd.jupyter.widget-view+json": {
       "model_id": "15d4fdb9e65448409e99581b009c6ebe",
       "version_major": 2,
       "version_minor": 0
      },
      "text/plain": [
       "  0%|          | 0/5000 [00:00<?, ?it/s]"
      ]
     },
     "metadata": {},
     "output_type": "display_data"
    },
    {
     "name": "stdout",
     "output_type": "stream",
     "text": [
      "N=400 hist=1 baseTF=True minSz=5 drg=0.2 -> RR50 = 0.6022 MPC = 0.866\n",
      "(10.61: 24.35+-3.069 34.96+-3.412\n",
      "0 1\n"
     ]
    },
    {
     "data": {
      "application/vnd.jupyter.widget-view+json": {
       "model_id": "50439f1543bb4f27a8c9df8c612efa3d",
       "version_major": 2,
       "version_minor": 0
      },
      "text/plain": [
       "  0%|          | 0/5000 [00:00<?, ?it/s]"
      ]
     },
     "metadata": {},
     "output_type": "display_data"
    },
    {
     "name": "stdout",
     "output_type": "stream",
     "text": [
      "N=400 hist=1 baseTF=True minSz=6 drg=0.2 -> RR50 = 0.6496 MPC = 0.8884\n",
      "(11.04: 23.94+-2.989 34.98+-3.391\n",
      "0 1\n"
     ]
    },
    {
     "data": {
      "application/vnd.jupyter.widget-view+json": {
       "model_id": "caee73d6867b4750ae5e4ba0ee3973ef",
       "version_major": 2,
       "version_minor": 0
      },
      "text/plain": [
       "  0%|          | 0/5000 [00:00<?, ?it/s]"
      ]
     },
     "metadata": {},
     "output_type": "display_data"
    },
    {
     "name": "stdout",
     "output_type": "stream",
     "text": [
      "N=400 hist=1 baseTF=True minSz=7 drg=0.2 -> RR50 = 0.6778 MPC = 0.9062\n",
      "(11.4: 23.56+-3.027 34.97+-3.416\n",
      "0 1\n"
     ]
    },
    {
     "data": {
      "application/vnd.jupyter.widget-view+json": {
       "model_id": "379872a752f4474ba8d11f194fb8c235",
       "version_major": 2,
       "version_minor": 0
      },
      "text/plain": [
       "  0%|          | 0/5000 [00:00<?, ?it/s]"
      ]
     },
     "metadata": {},
     "output_type": "display_data"
    },
    {
     "name": "stdout",
     "output_type": "stream",
     "text": [
      "N=400 hist=1 baseTF=True minSz=8 drg=0.2 -> RR50 = 0.6764 MPC = 0.912\n",
      "(11.55: 23.29+-3.009 34.84+-3.383\n",
      "0 3\n"
     ]
    },
    {
     "data": {
      "application/vnd.jupyter.widget-view+json": {
       "model_id": "d17ec31c0cca4deb959a99b3c8bc1dd8",
       "version_major": 2,
       "version_minor": 0
      },
      "text/plain": [
       "  0%|          | 0/5000 [00:00<?, ?it/s]"
      ]
     },
     "metadata": {},
     "output_type": "display_data"
    },
    {
     "name": "stdout",
     "output_type": "stream",
     "text": [
      "N=400 hist=3 baseTF=False minSz=0 drg=0.2 -> RR50 = 0.4714 MPC = 0.7674\n",
      "(8.729: 21.22+-2.868 29.95+-3.263\n",
      "0 3\n"
     ]
    },
    {
     "data": {
      "application/vnd.jupyter.widget-view+json": {
       "model_id": "e6fa461382c844a6a82e4b53865150e8",
       "version_major": 2,
       "version_minor": 0
      },
      "text/plain": [
       "  0%|          | 0/5000 [00:00<?, ?it/s]"
      ]
     },
     "metadata": {},
     "output_type": "display_data"
    },
    {
     "name": "stdout",
     "output_type": "stream",
     "text": [
      "N=400 hist=3 baseTF=False minSz=1 drg=0.2 -> RR50 = 0.5576 MPC = 0.8254\n",
      "(9.849: 23.01+-3.026 32.86+-3.356\n",
      "0 3\n"
     ]
    },
    {
     "data": {
      "application/vnd.jupyter.widget-view+json": {
       "model_id": "52f60c1c34b04b73a1c4375a133b690d",
       "version_major": 2,
       "version_minor": 0
      },
      "text/plain": [
       "  0%|          | 0/5000 [00:00<?, ?it/s]"
      ]
     },
     "metadata": {},
     "output_type": "display_data"
    },
    {
     "name": "stdout",
     "output_type": "stream",
     "text": [
      "N=400 hist=3 baseTF=False minSz=2 drg=0.2 -> RR50 = 0.6348 MPC = 0.8826\n",
      "(10.65: 21.59+-2.892 32.24+-3.265\n",
      "0 3\n"
     ]
    },
    {
     "data": {
      "application/vnd.jupyter.widget-view+json": {
       "model_id": "724dfdd9a45844819f511a7dab4545e2",
       "version_major": 2,
       "version_minor": 0
      },
      "text/plain": [
       "  0%|          | 0/5000 [00:00<?, ?it/s]"
      ]
     },
     "metadata": {},
     "output_type": "display_data"
    },
    {
     "name": "stdout",
     "output_type": "stream",
     "text": [
      "N=400 hist=3 baseTF=False minSz=3 drg=0.2 -> RR50 = 0.7034 MPC = 0.9158\n",
      "(11.3: 19.99+-2.842 31.29+-3.253\n",
      "0 3\n"
     ]
    },
    {
     "data": {
      "application/vnd.jupyter.widget-view+json": {
       "model_id": "e5b093ddd2de4eef9773a5e34a3ca51a",
       "version_major": 2,
       "version_minor": 0
      },
      "text/plain": [
       "  0%|          | 0/5000 [00:00<?, ?it/s]"
      ]
     },
     "metadata": {},
     "output_type": "display_data"
    },
    {
     "name": "stdout",
     "output_type": "stream",
     "text": [
      "N=400 hist=3 baseTF=False minSz=4 drg=0.2 -> RR50 = 0.7496 MPC = 0.9424\n",
      "(11.83: 18.74+-2.742 30.57+-3.299\n",
      "0 3\n"
     ]
    },
    {
     "data": {
      "application/vnd.jupyter.widget-view+json": {
       "model_id": "bf877eb2efd54d829a38a41c3837fdcf",
       "version_major": 2,
       "version_minor": 0
      },
      "text/plain": [
       "  0%|          | 0/5000 [00:00<?, ?it/s]"
      ]
     },
     "metadata": {},
     "output_type": "display_data"
    },
    {
     "name": "stdout",
     "output_type": "stream",
     "text": [
      "N=400 hist=3 baseTF=False minSz=5 drg=0.2 -> RR50 = 0.762 MPC = 0.9442\n",
      "(11.93: 18.09+-2.705 30.01+-3.296\n",
      "0 3\n"
     ]
    },
    {
     "data": {
      "application/vnd.jupyter.widget-view+json": {
       "model_id": "65257570d9cb4613ac038854d4312f31",
       "version_major": 2,
       "version_minor": 0
      },
      "text/plain": [
       "  0%|          | 0/5000 [00:00<?, ?it/s]"
      ]
     },
     "metadata": {},
     "output_type": "display_data"
    },
    {
     "name": "stdout",
     "output_type": "stream",
     "text": [
      "N=400 hist=3 baseTF=False minSz=6 drg=0.2 -> RR50 = 0.793 MPC = 0.9544\n",
      "(12.18: 17.72+-2.67 29.9+-3.182\n",
      "0 3\n"
     ]
    },
    {
     "data": {
      "application/vnd.jupyter.widget-view+json": {
       "model_id": "4706a7cce49c4334b1c388d0f17ccfa1",
       "version_major": 2,
       "version_minor": 0
      },
      "text/plain": [
       "  0%|          | 0/5000 [00:00<?, ?it/s]"
      ]
     },
     "metadata": {},
     "output_type": "display_data"
    },
    {
     "name": "stdout",
     "output_type": "stream",
     "text": [
      "N=400 hist=3 baseTF=False minSz=7 drg=0.2 -> RR50 = 0.8032 MPC = 0.945\n",
      "(12.29: 17.73+-2.676 30.02+-3.212\n",
      "0 3\n"
     ]
    },
    {
     "data": {
      "application/vnd.jupyter.widget-view+json": {
       "model_id": "17c8748bee6d4b50a047de810bece75d",
       "version_major": 2,
       "version_minor": 0
      },
      "text/plain": [
       "  0%|          | 0/5000 [00:00<?, ?it/s]"
      ]
     },
     "metadata": {},
     "output_type": "display_data"
    },
    {
     "name": "stdout",
     "output_type": "stream",
     "text": [
      "N=400 hist=3 baseTF=False minSz=8 drg=0.2 -> RR50 = 0.7966 MPC = 0.943\n",
      "(12.36: 18.05+-2.736 30.41+-3.292\n",
      "     N  minSz  DRG  PCB  history  baseTF    diffR      diffM    PCB_R  \\\n",
      "0  400      0  0.2    0        1    True   8.7440  21.364703  21.5950   \n",
      "0  400      1  0.2    0        1    True   9.2892  20.807314  23.6144   \n",
      "0  400      2  0.2    0        1    True   9.7110  19.540482  24.5970   \n",
      "0  400      3  0.2    0        1    True  10.0052  18.321183  25.0749   \n",
      "0  400      4  0.2    0        1    True  10.3463  17.376139  24.7455   \n",
      "0  400      5  0.2    0        1    True  10.6139  16.964005  24.3475   \n",
      "0  400      6  0.2    0        1    True  11.0393  16.648756  23.9432   \n",
      "0  400      7  0.2    0        1    True  11.4037  16.551730  23.5646   \n",
      "0  400      8  0.2    0        1    True  11.5502  16.345909  23.2893   \n",
      "0  400      0  0.2    0        3   False   8.7288  20.707784  21.2210   \n",
      "0  400      1  0.2    0        3   False   9.8490  19.668253  23.0129   \n",
      "0  400      2  0.2    0        3   False  10.6460  18.488897  21.5922   \n",
      "0  400      3  0.2    0        3   False  11.2979  17.689117  19.9882   \n",
      "0  400      4  0.2    0        3   False  11.8260  17.457601  18.7414   \n",
      "0  400      5  0.2    0        3   False  11.9289  17.281380  18.0851   \n",
      "0  400      6  0.2    0        3   False  12.1770  17.236802  17.7211   \n",
      "0  400      7  0.2    0        3   False  12.2950  17.129504  17.7270   \n",
      "0  400      8  0.2    0        3   False  12.3575  16.808824  18.0527   \n",
      "\n",
      "       PCB_M   pow_r   pow_m  \n",
      "0   5.496119  0.4742  0.7614  \n",
      "0   9.150472  0.5034  0.7710  \n",
      "0  11.651307  0.5276  0.8084  \n",
      "0  13.648303  0.5544  0.8282  \n",
      "0  15.193806  0.5746  0.8532  \n",
      "0  16.124447  0.6022  0.8660  \n",
      "0  16.938927  0.6496  0.8884  \n",
      "0  17.404844  0.6778  0.9062  \n",
      "0  17.890603  0.6764  0.9120  \n",
      "0   4.209585  0.4714  0.7674  \n",
      "0  10.430011  0.5576  0.8254  \n",
      "0  12.240477  0.6348  0.8826  \n",
      "0  13.152891  0.7034  0.9158  \n",
      "0  13.452618  0.7496  0.9424  \n",
      "0  13.942729  0.7620  0.9442  \n",
      "0  14.410542  0.7930  0.9544  \n",
      "0  14.970037  0.8032  0.9450  \n",
      "0  15.651111  0.7966  0.9430  \n",
      "Study chances = 6\n"
     ]
    },
    {
     "data": {
      "application/vnd.jupyter.widget-view+json": {
       "model_id": "3ea073f7e13e45ee997c00afe2976b0a",
       "version_major": 2,
       "version_minor": 0
      },
      "text/plain": [
       "0it [00:00, ?it/s]"
      ]
     },
     "metadata": {},
     "output_type": "display_data"
    },
    {
     "name": "stdout",
     "output_type": "stream",
     "text": [
      "fracsSetAll_11_True_1.csv\n"
     ]
    },
    {
     "data": {
      "application/vnd.jupyter.widget-view+json": {
       "model_id": "29936510fa684372b5d85312d2d4f1a3",
       "version_major": 2,
       "version_minor": 0
      },
      "text/plain": [
       "0it [00:00, ?it/s]"
      ]
     },
     "metadata": {},
     "output_type": "display_data"
    },
    {
     "name": "stdout",
     "output_type": "stream",
     "text": [
      "fracsSetAll_14_False_3.csv\n",
      "0 1\n"
     ]
    },
    {
     "data": {
      "application/vnd.jupyter.widget-view+json": {
       "model_id": "17d63c266b7b4773808a83638fddc5c5",
       "version_major": 2,
       "version_minor": 0
      },
      "text/plain": [
       "  0%|          | 0/5000 [00:00<?, ?it/s]"
      ]
     },
     "metadata": {},
     "output_type": "display_data"
    },
    {
     "name": "stdout",
     "output_type": "stream",
     "text": [
      "N=400 hist=1 baseTF=True minSz=0 drg=0.2 -> RR50 = 0.4972 MPC = 0.7852\n",
      "( 8.9: 20.18+-2.815 29.08+-3.21\n",
      "0 1\n"
     ]
    },
    {
     "data": {
      "application/vnd.jupyter.widget-view+json": {
       "model_id": "ecfb71e04f794f78b7d1903821068d4b",
       "version_major": 2,
       "version_minor": 0
      },
      "text/plain": [
       "  0%|          | 0/5000 [00:00<?, ?it/s]"
      ]
     },
     "metadata": {},
     "output_type": "display_data"
    },
    {
     "name": "stdout",
     "output_type": "stream",
     "text": [
      "N=400 hist=1 baseTF=True minSz=1 drg=0.2 -> RR50 = 0.5406 MPC = 0.8304\n",
      "(9.557: 21.11+-2.903 30.67+-3.29\n",
      "0 1\n"
     ]
    },
    {
     "data": {
      "application/vnd.jupyter.widget-view+json": {
       "model_id": "782fdeba616e4317af9d0fc0054f814b",
       "version_major": 2,
       "version_minor": 0
      },
      "text/plain": [
       "  0%|          | 0/5000 [00:00<?, ?it/s]"
      ]
     },
     "metadata": {},
     "output_type": "display_data"
    },
    {
     "name": "stdout",
     "output_type": "stream",
     "text": [
      "N=400 hist=1 baseTF=True minSz=2 drg=0.2 -> RR50 = 0.5718 MPC = 0.8566\n",
      "(9.92: 21.37+-2.875 31.29+-3.278\n",
      "0 1\n"
     ]
    },
    {
     "data": {
      "application/vnd.jupyter.widget-view+json": {
       "model_id": "b9e0fecfe0964b17b1927346b7f1be21",
       "version_major": 2,
       "version_minor": 0
      },
      "text/plain": [
       "  0%|          | 0/5000 [00:00<?, ?it/s]"
      ]
     },
     "metadata": {},
     "output_type": "display_data"
    },
    {
     "name": "stdout",
     "output_type": "stream",
     "text": [
      "N=400 hist=1 baseTF=True minSz=3 drg=0.2 -> RR50 = 0.5994 MPC = 0.8814\n",
      "(10.21: 21.24+-2.821 31.45+-3.305\n",
      "0 1\n"
     ]
    },
    {
     "data": {
      "application/vnd.jupyter.widget-view+json": {
       "model_id": "b13d97ba200640cbbd984a57debb5d8d",
       "version_major": 2,
       "version_minor": 0
      },
      "text/plain": [
       "  0%|          | 0/5000 [00:00<?, ?it/s]"
      ]
     },
     "metadata": {},
     "output_type": "display_data"
    },
    {
     "name": "stdout",
     "output_type": "stream",
     "text": [
      "N=400 hist=1 baseTF=True minSz=4 drg=0.2 -> RR50 = 0.63 MPC = 0.894\n",
      "(10.46: 20.56+-2.875 31.03+-3.285\n",
      "0 1\n"
     ]
    },
    {
     "data": {
      "application/vnd.jupyter.widget-view+json": {
       "model_id": "b19386c8067645d696daa05d94876275",
       "version_major": 2,
       "version_minor": 0
      },
      "text/plain": [
       "  0%|          | 0/5000 [00:00<?, ?it/s]"
      ]
     },
     "metadata": {},
     "output_type": "display_data"
    },
    {
     "name": "stdout",
     "output_type": "stream",
     "text": [
      "N=400 hist=1 baseTF=True minSz=5 drg=0.2 -> RR50 = 0.6676 MPC = 0.9152\n",
      "(10.85: 19.88+-2.838 30.73+-3.251\n",
      "0 1\n"
     ]
    },
    {
     "data": {
      "application/vnd.jupyter.widget-view+json": {
       "model_id": "c324c0851b9244dca83affc8c6f8dcf6",
       "version_major": 2,
       "version_minor": 0
      },
      "text/plain": [
       "  0%|          | 0/5000 [00:00<?, ?it/s]"
      ]
     },
     "metadata": {},
     "output_type": "display_data"
    },
    {
     "name": "stdout",
     "output_type": "stream",
     "text": [
      "N=400 hist=1 baseTF=True minSz=6 drg=0.2 -> RR50 = 0.6706 MPC = 0.9162\n",
      "(10.83: 19.48+-2.796 30.32+-3.276\n",
      "0 1\n"
     ]
    },
    {
     "data": {
      "application/vnd.jupyter.widget-view+json": {
       "model_id": "d7cf2653576d4fef87499775f935b2e5",
       "version_major": 2,
       "version_minor": 0
      },
      "text/plain": [
       "  0%|          | 0/5000 [00:00<?, ?it/s]"
      ]
     },
     "metadata": {},
     "output_type": "display_data"
    },
    {
     "name": "stdout",
     "output_type": "stream",
     "text": [
      "N=400 hist=1 baseTF=True minSz=7 drg=0.2 -> RR50 = 0.7 MPC = 0.938\n",
      "(11.18: 19.07+-2.747 30.25+-3.242\n",
      "0 1\n"
     ]
    },
    {
     "data": {
      "application/vnd.jupyter.widget-view+json": {
       "model_id": "b17ec73ce06a42e889e45aff0479458d",
       "version_major": 2,
       "version_minor": 0
      },
      "text/plain": [
       "  0%|          | 0/5000 [00:00<?, ?it/s]"
      ]
     },
     "metadata": {},
     "output_type": "display_data"
    },
    {
     "name": "stdout",
     "output_type": "stream",
     "text": [
      "N=400 hist=1 baseTF=True minSz=8 drg=0.2 -> RR50 = 0.7222 MPC = 0.937\n",
      "(11.29: 18.66+-2.739 29.95+-3.242\n",
      "0 3\n"
     ]
    },
    {
     "data": {
      "application/vnd.jupyter.widget-view+json": {
       "model_id": "fa0f7a48112b46f5b7124ffc24349260",
       "version_major": 2,
       "version_minor": 0
      },
      "text/plain": [
       "  0%|          | 0/5000 [00:00<?, ?it/s]"
      ]
     },
     "metadata": {},
     "output_type": "display_data"
    },
    {
     "name": "stdout",
     "output_type": "stream",
     "text": [
      "N=400 hist=3 baseTF=False minSz=0 drg=0.2 -> RR50 = 0.497 MPC = 0.7862\n",
      "(8.785: 19.31+-2.757 28.09+-3.199\n",
      "0 3\n"
     ]
    },
    {
     "data": {
      "application/vnd.jupyter.widget-view+json": {
       "model_id": "e02edcb113934d30946cea9a64be7f5e",
       "version_major": 2,
       "version_minor": 0
      },
      "text/plain": [
       "  0%|          | 0/5000 [00:00<?, ?it/s]"
      ]
     },
     "metadata": {},
     "output_type": "display_data"
    },
    {
     "name": "stdout",
     "output_type": "stream",
     "text": [
      "N=400 hist=3 baseTF=False minSz=1 drg=0.2 -> RR50 = 0.5946 MPC = 0.8708\n",
      "(9.856: 18.87+-2.746 28.73+-3.227\n",
      "0 3\n"
     ]
    },
    {
     "data": {
      "application/vnd.jupyter.widget-view+json": {
       "model_id": "24b67b428e154825b723a8c6adc91e75",
       "version_major": 2,
       "version_minor": 0
      },
      "text/plain": [
       "  0%|          | 0/5000 [00:00<?, ?it/s]"
      ]
     },
     "metadata": {},
     "output_type": "display_data"
    },
    {
     "name": "stdout",
     "output_type": "stream",
     "text": [
      "N=400 hist=3 baseTF=False minSz=2 drg=0.2 -> RR50 = 0.6754 MPC = 0.922\n",
      "(10.49: 17.12+-2.625 27.61+-3.165\n",
      "0 3\n"
     ]
    },
    {
     "data": {
      "application/vnd.jupyter.widget-view+json": {
       "model_id": "736df01abd0e49a1afc28d58d9724627",
       "version_major": 2,
       "version_minor": 0
      },
      "text/plain": [
       "  0%|          | 0/5000 [00:00<?, ?it/s]"
      ]
     },
     "metadata": {},
     "output_type": "display_data"
    },
    {
     "name": "stdout",
     "output_type": "stream",
     "text": [
      "N=400 hist=3 baseTF=False minSz=3 drg=0.2 -> RR50 = 0.708 MPC = 0.9326\n",
      "(10.76: 15.93+-2.575 26.69+-3.144\n",
      "0 3\n"
     ]
    },
    {
     "data": {
      "application/vnd.jupyter.widget-view+json": {
       "model_id": "44e4b0b021a14c7296300b6ae565da94",
       "version_major": 2,
       "version_minor": 0
      },
      "text/plain": [
       "  0%|          | 0/5000 [00:00<?, ?it/s]"
      ]
     },
     "metadata": {},
     "output_type": "display_data"
    },
    {
     "name": "stdout",
     "output_type": "stream",
     "text": [
      "N=400 hist=3 baseTF=False minSz=4 drg=0.2 -> RR50 = 0.7318 MPC = 0.9468\n",
      "(10.89: 15.3+-2.54 26.2+-3.101\n",
      "0 3\n"
     ]
    },
    {
     "data": {
      "application/vnd.jupyter.widget-view+json": {
       "model_id": "3339ec6932e046238d1b0a29c69bd6da",
       "version_major": 2,
       "version_minor": 0
      },
      "text/plain": [
       "  0%|          | 0/5000 [00:00<?, ?it/s]"
      ]
     },
     "metadata": {},
     "output_type": "display_data"
    },
    {
     "name": "stdout",
     "output_type": "stream",
     "text": [
      "N=400 hist=3 baseTF=False minSz=5 drg=0.2 -> RR50 = 0.745 MPC = 0.9478\n",
      "(10.98: 15.17+-2.548 26.15+-3.087\n",
      "0 3\n"
     ]
    },
    {
     "data": {
      "application/vnd.jupyter.widget-view+json": {
       "model_id": "8c0a8698ddaa46b0bfffdbc4cdb8c2d0",
       "version_major": 2,
       "version_minor": 0
      },
      "text/plain": [
       "  0%|          | 0/5000 [00:00<?, ?it/s]"
      ]
     },
     "metadata": {},
     "output_type": "display_data"
    },
    {
     "name": "stdout",
     "output_type": "stream",
     "text": [
      "N=400 hist=3 baseTF=False minSz=6 drg=0.2 -> RR50 = 0.7334 MPC = 0.9398\n",
      "(11.03: 15.39+-2.55 26.42+-3.07\n",
      "0 3\n"
     ]
    },
    {
     "data": {
      "application/vnd.jupyter.widget-view+json": {
       "model_id": "7cb1931c26614451aade61db6aea1224",
       "version_major": 2,
       "version_minor": 0
      },
      "text/plain": [
       "  0%|          | 0/5000 [00:00<?, ?it/s]"
      ]
     },
     "metadata": {},
     "output_type": "display_data"
    },
    {
     "name": "stdout",
     "output_type": "stream",
     "text": [
      "N=400 hist=3 baseTF=False minSz=7 drg=0.2 -> RR50 = 0.7334 MPC = 0.9354\n",
      "(11.05: 16.02+-2.634 27.07+-3.165\n",
      "0 3\n"
     ]
    },
    {
     "data": {
      "application/vnd.jupyter.widget-view+json": {
       "model_id": "c8852ce6dc924e479d4bbccfe92d05b4",
       "version_major": 2,
       "version_minor": 0
      },
      "text/plain": [
       "  0%|          | 0/5000 [00:00<?, ?it/s]"
      ]
     },
     "metadata": {},
     "output_type": "display_data"
    },
    {
     "name": "stdout",
     "output_type": "stream",
     "text": [
      "N=400 hist=3 baseTF=False minSz=8 drg=0.2 -> RR50 = 0.7288 MPC = 0.9198\n",
      "(11.05: 16.88+-2.606 27.93+-3.152\n",
      "     N  minSz  DRG  PCB  history  baseTF    diffR      diffM    PCB_R  \\\n",
      "0  400      0  0.2    0        1    True   8.9000  20.992665  20.1822   \n",
      "0  400      1  0.2    0        1    True   9.5570  21.342211  21.1107   \n",
      "0  400      2  0.2    0        1    True   9.9200  20.566816  21.3712   \n",
      "0  400      3  0.2    0        1    True  10.2072  19.638523  21.2405   \n",
      "0  400      4  0.2    0        1    True  10.4627  19.032354  20.5643   \n",
      "0  400      5  0.2    0        1    True  10.8469  18.881860  19.8845   \n",
      "0  400      6  0.2    0        1    True  10.8310  18.304700  19.4843   \n",
      "0  400      7  0.2    0        1    True  11.1840  18.317244  19.0694   \n",
      "0  400      8  0.2    0        1    True  11.2932  17.945805  18.6609   \n",
      "0  400      0  0.2    0        3   False   8.7846  19.523647  19.3089   \n",
      "0  400      1  0.2    0        3   False   9.8562  19.922179  18.8714   \n",
      "0  400      2  0.2    0        3   False  10.4875  19.196800  17.1232   \n",
      "0  400      3  0.2    0        3   False  10.7590  18.822528  15.9326   \n",
      "0  400      4  0.2    0        3   False  10.8939  18.704241  15.3040   \n",
      "0  400      5  0.2    0        3   False  10.9810  18.649236  15.1733   \n",
      "0  400      6  0.2    0        3   False  11.0308  18.326322  15.3876   \n",
      "0  400      7  0.2    0        3   False  11.0489  18.217354  16.0224   \n",
      "0  400      8  0.2    0        3   False  11.0512  18.016695  16.8807   \n",
      "\n",
      "       PCB_M   pow_r   pow_m  \n",
      "0   3.951352  0.4972  0.7852  \n",
      "0   5.992910  0.5406  0.8304  \n",
      "0   7.816088  0.5718  0.8566  \n",
      "0   9.157366  0.5994  0.8814  \n",
      "0  10.144457  0.6300  0.8940  \n",
      "0  10.687185  0.6676  0.9152  \n",
      "0  11.285391  0.6706  0.9162  \n",
      "0  11.548054  0.7000  0.9380  \n",
      "0  11.898225  0.7222  0.9370  \n",
      "0   2.464523  0.4970  0.7862  \n",
      "0   5.331794  0.5946  0.8708  \n",
      "0   6.348348  0.6754  0.9220  \n",
      "0   6.998343  0.7080  0.9326  \n",
      "0   7.400004  0.7318  0.9468  \n",
      "0   7.905742  0.7450  0.9478  \n",
      "0   8.584536  0.7334  0.9398  \n",
      "0   9.225647  0.7334  0.9354  \n",
      "0   9.995922  0.7288  0.9198  \n",
      "Study chances = 12\n"
     ]
    },
    {
     "data": {
      "application/vnd.jupyter.widget-view+json": {
       "model_id": "ed6a524dfd6048009db262891e3d0be8",
       "version_major": 2,
       "version_minor": 0
      },
      "text/plain": [
       "0it [00:00, ?it/s]"
      ]
     },
     "metadata": {},
     "output_type": "display_data"
    },
    {
     "name": "stdout",
     "output_type": "stream",
     "text": [
      "fracsSetAll_17_True_1.csv\n"
     ]
    },
    {
     "data": {
      "application/vnd.jupyter.widget-view+json": {
       "model_id": "31d2f62d99154a67b6e31e7d043e3700",
       "version_major": 2,
       "version_minor": 0
      },
      "text/plain": [
       "0it [00:00, ?it/s]"
      ]
     },
     "metadata": {},
     "output_type": "display_data"
    },
    {
     "name": "stdout",
     "output_type": "stream",
     "text": [
      "fracsSetAll_20_False_3.csv\n",
      "0 1\n"
     ]
    },
    {
     "data": {
      "application/vnd.jupyter.widget-view+json": {
       "model_id": "7d7553717ecd476bb4c5bd486f9345fd",
       "version_major": 2,
       "version_minor": 0
      },
      "text/plain": [
       "  0%|          | 0/5000 [00:00<?, ?it/s]"
      ]
     },
     "metadata": {},
     "output_type": "display_data"
    },
    {
     "name": "stdout",
     "output_type": "stream",
     "text": [
      "N=400 hist=1 baseTF=True minSz=0 drg=0.2 -> RR50 = 0.4788 MPC = 0.772\n",
      "(8.784: 20.95+-2.893 29.73+-3.172\n",
      "0 1\n"
     ]
    },
    {
     "data": {
      "application/vnd.jupyter.widget-view+json": {
       "model_id": "8de05ac80101473cb1809c72b1ba58cd",
       "version_major": 2,
       "version_minor": 0
      },
      "text/plain": [
       "  0%|          | 0/5000 [00:00<?, ?it/s]"
      ]
     },
     "metadata": {},
     "output_type": "display_data"
    },
    {
     "name": "stdout",
     "output_type": "stream",
     "text": [
      "N=400 hist=1 baseTF=True minSz=1 drg=0.2 -> RR50 = 0.521 MPC = 0.7978\n",
      "(9.403: 22.39+-2.938 31.79+-3.294\n",
      "0 1\n"
     ]
    },
    {
     "data": {
      "application/vnd.jupyter.widget-view+json": {
       "model_id": "34bfeb67ad9c4223a7895ae2e9b6b3a8",
       "version_major": 2,
       "version_minor": 0
      },
      "text/plain": [
       "  0%|          | 0/5000 [00:00<?, ?it/s]"
      ]
     },
     "metadata": {},
     "output_type": "display_data"
    },
    {
     "name": "stdout",
     "output_type": "stream",
     "text": [
      "N=400 hist=1 baseTF=True minSz=2 drg=0.2 -> RR50 = 0.5426 MPC = 0.8214\n",
      "(9.73: 23.16+-2.957 32.89+-3.276\n",
      "0 1\n"
     ]
    },
    {
     "data": {
      "application/vnd.jupyter.widget-view+json": {
       "model_id": "05a06f39b3784bd59e1c3f7cf4030ac4",
       "version_major": 2,
       "version_minor": 0
      },
      "text/plain": [
       "  0%|          | 0/5000 [00:00<?, ?it/s]"
      ]
     },
     "metadata": {},
     "output_type": "display_data"
    },
    {
     "name": "stdout",
     "output_type": "stream",
     "text": [
      "N=400 hist=1 baseTF=True minSz=3 drg=0.2 -> RR50 = 0.5832 MPC = 0.852\n",
      "(10.23: 23.22+-2.987 33.45+-3.277\n",
      "0 1\n"
     ]
    },
    {
     "data": {
      "application/vnd.jupyter.widget-view+json": {
       "model_id": "863dc13239084e6fb77b53ccedb2ef91",
       "version_major": 2,
       "version_minor": 0
      },
      "text/plain": [
       "  0%|          | 0/5000 [00:00<?, ?it/s]"
      ]
     },
     "metadata": {},
     "output_type": "display_data"
    },
    {
     "name": "stdout",
     "output_type": "stream",
     "text": [
      "N=400 hist=1 baseTF=True minSz=4 drg=0.2 -> RR50 = 0.602 MPC = 0.8734\n",
      "(10.4: 22.7+-2.974 33.1+-3.276\n",
      "0 1\n"
     ]
    },
    {
     "data": {
      "application/vnd.jupyter.widget-view+json": {
       "model_id": "bc713f44eb334124b12847cd7cf287d7",
       "version_major": 2,
       "version_minor": 0
      },
      "text/plain": [
       "  0%|          | 0/5000 [00:00<?, ?it/s]"
      ]
     },
     "metadata": {},
     "output_type": "display_data"
    },
    {
     "name": "stdout",
     "output_type": "stream",
     "text": [
      "N=400 hist=1 baseTF=True minSz=5 drg=0.2 -> RR50 = 0.6404 MPC = 0.892\n",
      "(10.8: 22.05+-2.96 32.86+-3.319\n",
      "0 1\n"
     ]
    },
    {
     "data": {
      "application/vnd.jupyter.widget-view+json": {
       "model_id": "340b008784d8400aa607cccdf639837d",
       "version_major": 2,
       "version_minor": 0
      },
      "text/plain": [
       "  0%|          | 0/5000 [00:00<?, ?it/s]"
      ]
     },
     "metadata": {},
     "output_type": "display_data"
    },
    {
     "name": "stdout",
     "output_type": "stream",
     "text": [
      "N=400 hist=1 baseTF=True minSz=6 drg=0.2 -> RR50 = 0.675 MPC = 0.9034\n",
      "(11.13: 21.64+-2.873 32.78+-3.262\n",
      "0 1\n"
     ]
    },
    {
     "data": {
      "application/vnd.jupyter.widget-view+json": {
       "model_id": "a06b0cc212b848059f1b34c0154469cf",
       "version_major": 2,
       "version_minor": 0
      },
      "text/plain": [
       "  0%|          | 0/5000 [00:00<?, ?it/s]"
      ]
     },
     "metadata": {},
     "output_type": "display_data"
    },
    {
     "name": "stdout",
     "output_type": "stream",
     "text": [
      "N=400 hist=1 baseTF=True minSz=7 drg=0.2 -> RR50 = 0.6942 MPC = 0.9248\n",
      "(11.3: 21.24+- 2.9 32.54+-3.31\n",
      "0 1\n"
     ]
    },
    {
     "data": {
      "application/vnd.jupyter.widget-view+json": {
       "model_id": "1764ec85bc724483b4c525791064ab03",
       "version_major": 2,
       "version_minor": 0
      },
      "text/plain": [
       "  0%|          | 0/5000 [00:00<?, ?it/s]"
      ]
     },
     "metadata": {},
     "output_type": "display_data"
    },
    {
     "name": "stdout",
     "output_type": "stream",
     "text": [
      "N=400 hist=1 baseTF=True minSz=8 drg=0.2 -> RR50 = 0.6996 MPC = 0.9308\n",
      "(11.47: 20.98+-2.882 32.45+-3.334\n",
      "0 3\n"
     ]
    },
    {
     "data": {
      "application/vnd.jupyter.widget-view+json": {
       "model_id": "3f3fce03bc7a4cdc948ee4e7cafdb0da",
       "version_major": 2,
       "version_minor": 0
      },
      "text/plain": [
       "  0%|          | 0/5000 [00:00<?, ?it/s]"
      ]
     },
     "metadata": {},
     "output_type": "display_data"
    },
    {
     "name": "stdout",
     "output_type": "stream",
     "text": [
      "N=400 hist=3 baseTF=False minSz=0 drg=0.2 -> RR50 = 0.4802 MPC = 0.7722\n",
      "(8.747: 20.51+-2.882 29.25+-3.201\n",
      "0 3\n"
     ]
    },
    {
     "data": {
      "application/vnd.jupyter.widget-view+json": {
       "model_id": "d07027a785c5489bb648a6233798cde9",
       "version_major": 2,
       "version_minor": 0
      },
      "text/plain": [
       "  0%|          | 0/5000 [00:00<?, ?it/s]"
      ]
     },
     "metadata": {},
     "output_type": "display_data"
    },
    {
     "name": "stdout",
     "output_type": "stream",
     "text": [
      "N=400 hist=3 baseTF=False minSz=1 drg=0.2 -> RR50 = 0.5734 MPC = 0.8528\n",
      "(9.901: 21.25+-2.868 31.15+-3.231\n",
      "0 3\n"
     ]
    },
    {
     "data": {
      "application/vnd.jupyter.widget-view+json": {
       "model_id": "2c278eb383c64e90b4e39336a3163556",
       "version_major": 2,
       "version_minor": 0
      },
      "text/plain": [
       "  0%|          | 0/5000 [00:00<?, ?it/s]"
      ]
     },
     "metadata": {},
     "output_type": "display_data"
    },
    {
     "name": "stdout",
     "output_type": "stream",
     "text": [
      "N=400 hist=3 baseTF=False minSz=2 drg=0.2 -> RR50 = 0.6664 MPC = 0.9062\n",
      "(10.74: 19.52+-2.77 30.26+-3.273\n",
      "0 3\n"
     ]
    },
    {
     "data": {
      "application/vnd.jupyter.widget-view+json": {
       "model_id": "b2efd6901e18480980c5706c988770e7",
       "version_major": 2,
       "version_minor": 0
      },
      "text/plain": [
       "  0%|          | 0/5000 [00:00<?, ?it/s]"
      ]
     },
     "metadata": {},
     "output_type": "display_data"
    },
    {
     "name": "stdout",
     "output_type": "stream",
     "text": [
      "N=400 hist=3 baseTF=False minSz=3 drg=0.2 -> RR50 = 0.7084 MPC = 0.9262\n",
      "(11.14: 18.07+-2.72 29.22+-3.24\n",
      "0 3\n"
     ]
    },
    {
     "data": {
      "application/vnd.jupyter.widget-view+json": {
       "model_id": "bfdad2ce81cd4a8aac82d4f52b8c1c1e",
       "version_major": 2,
       "version_minor": 0
      },
      "text/plain": [
       "  0%|          | 0/5000 [00:00<?, ?it/s]"
      ]
     },
     "metadata": {},
     "output_type": "display_data"
    },
    {
     "name": "stdout",
     "output_type": "stream",
     "text": [
      "N=400 hist=3 baseTF=False minSz=4 drg=0.2 -> RR50 = 0.736 MPC = 0.9436\n",
      "(11.36: 17.13+-2.633 28.49+-3.207\n",
      "0 3\n"
     ]
    },
    {
     "data": {
      "application/vnd.jupyter.widget-view+json": {
       "model_id": "5a7ba7f622be47a6839dcbd3cfd2f718",
       "version_major": 2,
       "version_minor": 0
      },
      "text/plain": [
       "  0%|          | 0/5000 [00:00<?, ?it/s]"
      ]
     },
     "metadata": {},
     "output_type": "display_data"
    },
    {
     "name": "stdout",
     "output_type": "stream",
     "text": [
      "N=400 hist=3 baseTF=False minSz=5 drg=0.2 -> RR50 = 0.764 MPC = 0.9514\n",
      "(11.66: 16.59+-2.632 28.25+-3.201\n",
      "0 3\n"
     ]
    },
    {
     "data": {
      "application/vnd.jupyter.widget-view+json": {
       "model_id": "c13920b3c38c4d9982d2c2fe956d0dd3",
       "version_major": 2,
       "version_minor": 0
      },
      "text/plain": [
       "  0%|          | 0/5000 [00:00<?, ?it/s]"
      ]
     },
     "metadata": {},
     "output_type": "display_data"
    },
    {
     "name": "stdout",
     "output_type": "stream",
     "text": [
      "N=400 hist=3 baseTF=False minSz=6 drg=0.2 -> RR50 = 0.7704 MPC = 0.9504\n",
      "(11.65: 16.45+-2.607 28.1+-3.213\n",
      "0 3\n"
     ]
    },
    {
     "data": {
      "application/vnd.jupyter.widget-view+json": {
       "model_id": "fa860b03b4ee4bd383bd7178a7b4a397",
       "version_major": 2,
       "version_minor": 0
      },
      "text/plain": [
       "  0%|          | 0/5000 [00:00<?, ?it/s]"
      ]
     },
     "metadata": {},
     "output_type": "display_data"
    },
    {
     "name": "stdout",
     "output_type": "stream",
     "text": [
      "N=400 hist=3 baseTF=False minSz=7 drg=0.2 -> RR50 = 0.7664 MPC = 0.9464\n",
      "(11.68: 16.76+-2.588 28.44+-3.178\n",
      "0 3\n"
     ]
    },
    {
     "data": {
      "application/vnd.jupyter.widget-view+json": {
       "model_id": "bae8802302154701823a907fbceb833f",
       "version_major": 2,
       "version_minor": 0
      },
      "text/plain": [
       "  0%|          | 0/5000 [00:00<?, ?it/s]"
      ]
     },
     "metadata": {},
     "output_type": "display_data"
    },
    {
     "name": "stdout",
     "output_type": "stream",
     "text": [
      "N=400 hist=3 baseTF=False minSz=8 drg=0.2 -> RR50 = 0.7752 MPC = 0.9324\n",
      "(11.89: 17.35+-2.679 29.24+-3.252\n",
      "     N  minSz  DRG  PCB  history  baseTF    diffR      diffM    PCB_R  \\\n",
      "0  400      0  0.2    0        1    True   8.7836  21.078937  20.9489   \n",
      "0  400      1  0.2    0        1    True   9.4032  21.201240  22.3904   \n",
      "0  400      2  0.2    0        1    True   9.7297  19.811401  23.1647   \n",
      "0  400      3  0.2    0        1    True  10.2267  19.195903  23.2184   \n",
      "0  400      4  0.2    0        1    True  10.4006  18.326068  22.6958   \n",
      "0  400      5  0.2    0        1    True  10.8030  17.936876  22.0529   \n",
      "0  400      6  0.2    0        1    True  11.1339  17.675922  21.6420   \n",
      "0  400      7  0.2    0        1    True  11.2996  17.481756  21.2380   \n",
      "0  400      8  0.2    0        1    True  11.4684  17.375417  20.9823   \n",
      "0  400      0  0.2    0        3   False   8.7471  20.302592  20.5066   \n",
      "0  400      1  0.2    0        3   False   9.9013  20.021877  21.2514   \n",
      "0  400      2  0.2    0        3   False  10.7356  18.883393  19.5246   \n",
      "0  400      3  0.2    0        3   False  11.1423  18.352768  18.0736   \n",
      "0  400      4  0.2    0        3   False  11.3638  18.082885  17.1258   \n",
      "0  400      5  0.2    0        3   False  11.6556  17.927295  16.5901   \n",
      "0  400      6  0.2    0        3   False  11.6535  17.645236  16.4503   \n",
      "0  400      7  0.2    0        3   False  11.6779  17.435486  16.7597   \n",
      "0  400      8  0.2    0        3   False  11.8907  17.400977  17.3460   \n",
      "\n",
      "       PCB_M   pow_r   pow_m  \n",
      "0   4.912808  0.4788  0.7720  \n",
      "0   7.542254  0.5210  0.7978  \n",
      "0  10.122163  0.5426  0.8214  \n",
      "0  11.596016  0.5832  0.8520  \n",
      "0  12.797828  0.6020  0.8734  \n",
      "0  13.563327  0.6404  0.8920  \n",
      "0  14.100695  0.6750  0.9034  \n",
      "0  14.551304  0.6942  0.9248  \n",
      "0  14.884542  0.6996  0.9308  \n",
      "0   3.521662  0.4802  0.7722  \n",
      "0   8.201255  0.5734  0.8528  \n",
      "0   9.719684  0.6664  0.9062  \n",
      "0  10.302196  0.7084  0.9262  \n",
      "0  10.806983  0.7360  0.9436  \n",
      "0  11.293568  0.7640  0.9514  \n",
      "0  11.806128  0.7704  0.9504  \n",
      "0  12.558074  0.7664  0.9464  \n",
      "0  13.175316  0.7752  0.9324  \n",
      "Study chances = 18\n"
     ]
    },
    {
     "data": {
      "application/vnd.jupyter.widget-view+json": {
       "model_id": "5a8ee83863eb4454b1abb19a76ea2265",
       "version_major": 2,
       "version_minor": 0
      },
      "text/plain": [
       "0it [00:00, ?it/s]"
      ]
     },
     "metadata": {},
     "output_type": "display_data"
    },
    {
     "name": "stdout",
     "output_type": "stream",
     "text": [
      "fracsSetAll_23_True_1.csv\n"
     ]
    },
    {
     "data": {
      "application/vnd.jupyter.widget-view+json": {
       "model_id": "5090fb947a6d44d18463e9a232dfc3ed",
       "version_major": 2,
       "version_minor": 0
      },
      "text/plain": [
       "0it [00:00, ?it/s]"
      ]
     },
     "metadata": {},
     "output_type": "display_data"
    },
    {
     "name": "stdout",
     "output_type": "stream",
     "text": [
      "fracsSetAll_26_False_3.csv\n",
      "0 1\n"
     ]
    },
    {
     "data": {
      "application/vnd.jupyter.widget-view+json": {
       "model_id": "4cb4cb24a1cb4d4788a30997c15f450b",
       "version_major": 2,
       "version_minor": 0
      },
      "text/plain": [
       "  0%|          | 0/5000 [00:00<?, ?it/s]"
      ]
     },
     "metadata": {},
     "output_type": "display_data"
    },
    {
     "name": "stdout",
     "output_type": "stream",
     "text": [
      "N=400 hist=1 baseTF=True minSz=0 drg=0.2 -> RR50 = 0.4902 MPC = 0.7726\n",
      "(8.893: 21.29+-2.875 30.18+-3.245\n",
      "0 1\n"
     ]
    },
    {
     "data": {
      "application/vnd.jupyter.widget-view+json": {
       "model_id": "df6d5315ca104f01b9568e603c4d229a",
       "version_major": 2,
       "version_minor": 0
      },
      "text/plain": [
       "  0%|          | 0/5000 [00:00<?, ?it/s]"
      ]
     },
     "metadata": {},
     "output_type": "display_data"
    },
    {
     "name": "stdout",
     "output_type": "stream",
     "text": [
      "N=400 hist=1 baseTF=True minSz=1 drg=0.2 -> RR50 = 0.504 MPC = 0.7896\n",
      "(9.277: 23.11+-2.982 32.39+-3.319\n",
      "0 1\n"
     ]
    },
    {
     "data": {
      "application/vnd.jupyter.widget-view+json": {
       "model_id": "c20f69b1f265433d86cb93bc23c74258",
       "version_major": 2,
       "version_minor": 0
      },
      "text/plain": [
       "  0%|          | 0/5000 [00:00<?, ?it/s]"
      ]
     },
     "metadata": {},
     "output_type": "display_data"
    },
    {
     "name": "stdout",
     "output_type": "stream",
     "text": [
      "N=400 hist=1 baseTF=True minSz=2 drg=0.2 -> RR50 = 0.5342 MPC = 0.8108\n",
      "(9.678: 24.1+-3.057 33.77+-3.333\n",
      "0 1\n"
     ]
    },
    {
     "data": {
      "application/vnd.jupyter.widget-view+json": {
       "model_id": "f2400a64f44d4144a7937d325651ceb0",
       "version_major": 2,
       "version_minor": 0
      },
      "text/plain": [
       "  0%|          | 0/5000 [00:00<?, ?it/s]"
      ]
     },
     "metadata": {},
     "output_type": "display_data"
    },
    {
     "name": "stdout",
     "output_type": "stream",
     "text": [
      "N=400 hist=1 baseTF=True minSz=3 drg=0.2 -> RR50 = 0.56 MPC = 0.837\n",
      "(10.12: 24.33+-3.034 34.44+-3.337\n",
      "0 1\n"
     ]
    },
    {
     "data": {
      "application/vnd.jupyter.widget-view+json": {
       "model_id": "5b2199ddda76457c981c5defa8a752e6",
       "version_major": 2,
       "version_minor": 0
      },
      "text/plain": [
       "  0%|          | 0/5000 [00:00<?, ?it/s]"
      ]
     },
     "metadata": {},
     "output_type": "display_data"
    },
    {
     "name": "stdout",
     "output_type": "stream",
     "text": [
      "N=400 hist=1 baseTF=True minSz=4 drg=0.2 -> RR50 = 0.5996 MPC = 0.8644\n",
      "(10.51: 23.9+-3.01 34.41+-3.339\n",
      "0 1\n"
     ]
    },
    {
     "data": {
      "application/vnd.jupyter.widget-view+json": {
       "model_id": "50705923cdcf4026bcab9c2ac087249d",
       "version_major": 2,
       "version_minor": 0
      },
      "text/plain": [
       "  0%|          | 0/5000 [00:00<?, ?it/s]"
      ]
     },
     "metadata": {},
     "output_type": "display_data"
    },
    {
     "name": "stdout",
     "output_type": "stream",
     "text": [
      "N=400 hist=1 baseTF=True minSz=5 drg=0.2 -> RR50 = 0.6308 MPC = 0.884\n",
      "(10.78: 23.41+-2.969 34.19+-3.315\n",
      "0 1\n"
     ]
    },
    {
     "data": {
      "application/vnd.jupyter.widget-view+json": {
       "model_id": "cd05f9f1b4644ff894bf6b3c173e0ff5",
       "version_major": 2,
       "version_minor": 0
      },
      "text/plain": [
       "  0%|          | 0/5000 [00:00<?, ?it/s]"
      ]
     },
     "metadata": {},
     "output_type": "display_data"
    },
    {
     "name": "stdout",
     "output_type": "stream",
     "text": [
      "N=400 hist=1 baseTF=True minSz=6 drg=0.2 -> RR50 = 0.6466 MPC = 0.8922\n",
      "(10.94: 23.05+-2.987 33.98+-3.341\n",
      "0 1\n"
     ]
    },
    {
     "data": {
      "application/vnd.jupyter.widget-view+json": {
       "model_id": "f6c2061e271941d58c486103362c0693",
       "version_major": 2,
       "version_minor": 0
      },
      "text/plain": [
       "  0%|          | 0/5000 [00:00<?, ?it/s]"
      ]
     },
     "metadata": {},
     "output_type": "display_data"
    },
    {
     "name": "stdout",
     "output_type": "stream",
     "text": [
      "N=400 hist=1 baseTF=True minSz=7 drg=0.2 -> RR50 = 0.6714 MPC = 0.9068\n",
      "(11.25: 22.72+-2.938 33.98+-3.305\n",
      "0 1\n"
     ]
    },
    {
     "data": {
      "application/vnd.jupyter.widget-view+json": {
       "model_id": "6f90d5920d3f40cca364dc39ca97e037",
       "version_major": 2,
       "version_minor": 0
      },
      "text/plain": [
       "  0%|          | 0/5000 [00:00<?, ?it/s]"
      ]
     },
     "metadata": {},
     "output_type": "display_data"
    },
    {
     "name": "stdout",
     "output_type": "stream",
     "text": [
      "N=400 hist=1 baseTF=True minSz=8 drg=0.2 -> RR50 = 0.6996 MPC = 0.9176\n",
      "(11.57: 22.3+-2.945 33.88+-3.367\n",
      "0 3\n"
     ]
    },
    {
     "data": {
      "application/vnd.jupyter.widget-view+json": {
       "model_id": "c961d57aaded43eaa361c13bd07e9615",
       "version_major": 2,
       "version_minor": 0
      },
      "text/plain": [
       "  0%|          | 0/5000 [00:00<?, ?it/s]"
      ]
     },
     "metadata": {},
     "output_type": "display_data"
    },
    {
     "name": "stdout",
     "output_type": "stream",
     "text": [
      "N=400 hist=3 baseTF=False minSz=0 drg=0.2 -> RR50 = 0.4744 MPC = 0.757\n",
      "(8.674: 20.99+- 2.9 29.66+-3.245\n",
      "0 3\n"
     ]
    },
    {
     "data": {
      "application/vnd.jupyter.widget-view+json": {
       "model_id": "c44afe6012d94312821dc79f158105c5",
       "version_major": 2,
       "version_minor": 0
      },
      "text/plain": [
       "  0%|          | 0/5000 [00:00<?, ?it/s]"
      ]
     },
     "metadata": {},
     "output_type": "display_data"
    },
    {
     "name": "stdout",
     "output_type": "stream",
     "text": [
      "N=400 hist=3 baseTF=False minSz=1 drg=0.2 -> RR50 = 0.5616 MPC = 0.8356\n",
      "(9.849: 22.34+-2.939 32.19+-3.252\n",
      "0 3\n"
     ]
    },
    {
     "data": {
      "application/vnd.jupyter.widget-view+json": {
       "model_id": "66bcc99dff9f4bbea288250d6b4d9f86",
       "version_major": 2,
       "version_minor": 0
      },
      "text/plain": [
       "  0%|          | 0/5000 [00:00<?, ?it/s]"
      ]
     },
     "metadata": {},
     "output_type": "display_data"
    },
    {
     "name": "stdout",
     "output_type": "stream",
     "text": [
      "N=400 hist=3 baseTF=False minSz=2 drg=0.2 -> RR50 = 0.6412 MPC = 0.8852\n",
      "(10.67: 20.82+-2.89 31.49+-3.294\n",
      "0 3\n"
     ]
    },
    {
     "data": {
      "application/vnd.jupyter.widget-view+json": {
       "model_id": "bcc75dd8821e4c5eb83cb4c3f2bb66a9",
       "version_major": 2,
       "version_minor": 0
      },
      "text/plain": [
       "  0%|          | 0/5000 [00:00<?, ?it/s]"
      ]
     },
     "metadata": {},
     "output_type": "display_data"
    },
    {
     "name": "stdout",
     "output_type": "stream",
     "text": [
      "N=400 hist=3 baseTF=False minSz=3 drg=0.2 -> RR50 = 0.7142 MPC = 0.9288\n",
      "(11.29: 19.19+-2.765 30.48+-3.263\n",
      "0 3\n"
     ]
    },
    {
     "data": {
      "application/vnd.jupyter.widget-view+json": {
       "model_id": "ca9ecffc50e94ed1ad4b3e5a3795d082",
       "version_major": 2,
       "version_minor": 0
      },
      "text/plain": [
       "  0%|          | 0/5000 [00:00<?, ?it/s]"
      ]
     },
     "metadata": {},
     "output_type": "display_data"
    },
    {
     "name": "stdout",
     "output_type": "stream",
     "text": [
      "N=400 hist=3 baseTF=False minSz=4 drg=0.2 -> RR50 = 0.7434 MPC = 0.9396\n",
      "(11.6: 18.12+-2.751 29.71+-3.256\n",
      "0 3\n"
     ]
    },
    {
     "data": {
      "application/vnd.jupyter.widget-view+json": {
       "model_id": "0460a637c50f4bce83827a7853c4f90c",
       "version_major": 2,
       "version_minor": 0
      },
      "text/plain": [
       "  0%|          | 0/5000 [00:00<?, ?it/s]"
      ]
     },
     "metadata": {},
     "output_type": "display_data"
    },
    {
     "name": "stdout",
     "output_type": "stream",
     "text": [
      "N=400 hist=3 baseTF=False minSz=5 drg=0.2 -> RR50 = 0.7734 MPC = 0.9494\n",
      "(11.87: 17.43+-2.665 29.3+-3.19\n",
      "0 3\n"
     ]
    },
    {
     "data": {
      "application/vnd.jupyter.widget-view+json": {
       "model_id": "f7fcf1a0e4c14af98070bd58416306cd",
       "version_major": 2,
       "version_minor": 0
      },
      "text/plain": [
       "  0%|          | 0/5000 [00:00<?, ?it/s]"
      ]
     },
     "metadata": {},
     "output_type": "display_data"
    },
    {
     "name": "stdout",
     "output_type": "stream",
     "text": [
      "N=400 hist=3 baseTF=False minSz=6 drg=0.2 -> RR50 = 0.784 MPC = 0.9478\n",
      "(11.99: 17.21+-2.684 29.2+-3.23\n",
      "0 3\n"
     ]
    },
    {
     "data": {
      "application/vnd.jupyter.widget-view+json": {
       "model_id": "d36ed9e7512a49c982a6cf45be8d12e4",
       "version_major": 2,
       "version_minor": 0
      },
      "text/plain": [
       "  0%|          | 0/5000 [00:00<?, ?it/s]"
      ]
     },
     "metadata": {},
     "output_type": "display_data"
    },
    {
     "name": "stdout",
     "output_type": "stream",
     "text": [
      "N=400 hist=3 baseTF=False minSz=7 drg=0.2 -> RR50 = 0.796 MPC = 0.9502\n",
      "(12.22: 17.24+-2.643 29.46+-3.294\n",
      "0 3\n"
     ]
    },
    {
     "data": {
      "application/vnd.jupyter.widget-view+json": {
       "model_id": "ed7fcd673771412586d2f201b2b2680c",
       "version_major": 2,
       "version_minor": 0
      },
      "text/plain": [
       "  0%|          | 0/5000 [00:00<?, ?it/s]"
      ]
     },
     "metadata": {},
     "output_type": "display_data"
    },
    {
     "name": "stdout",
     "output_type": "stream",
     "text": [
      "N=400 hist=3 baseTF=False minSz=8 drg=0.2 -> RR50 = 0.7892 MPC = 0.9426\n",
      "(12.21: 17.71+-2.682 29.92+-3.223\n",
      "     N  minSz  DRG  PCB  history  baseTF    diffR      diffM    PCB_R  \\\n",
      "0  400      0  0.2    0        1    True   8.8926  21.422578  21.2902   \n",
      "0  400      1  0.2    0        1    True   9.2773  20.896494  23.1137   \n",
      "0  400      2  0.2    0        1    True   9.6777  19.561987  24.0959   \n",
      "0  400      3  0.2    0        1    True  10.1160  18.713962  24.3289   \n",
      "0  400      4  0.2    0        1    True  10.5075  17.949909  23.9038   \n",
      "0  400      5  0.2    0        1    True  10.7757  17.435480  23.4144   \n",
      "0  400      6  0.2    0        1    True  10.9353  17.005923  23.0455   \n",
      "0  400      7  0.2    0        1    True  11.2524  16.812310  22.7245   \n",
      "0  400      8  0.2    0        1    True  11.5746  16.692100  22.3029   \n",
      "0  400      0  0.2    0        3   False   8.6737  20.422447  20.9859   \n",
      "0  400      1  0.2    0        3   False   9.8493  19.894066  22.3400   \n",
      "0  400      2  0.2    0        3   False  10.6699  18.554204  20.8200   \n",
      "0  400      3  0.2    0        3   False  11.2916  18.261740  19.1864   \n",
      "0  400      4  0.2    0        3   False  11.5952  17.800247  18.1152   \n",
      "0  400      5  0.2    0        3   False  11.8658  17.606277  17.4348   \n",
      "0  400      6  0.2    0        3   False  11.9853  17.393799  17.2127   \n",
      "0  400      7  0.2    0        3   False  12.2197  17.362213  17.2408   \n",
      "0  400      8  0.2    0        3   False  12.2089  17.138181  17.7068   \n",
      "\n",
      "       PCB_M   pow_r   pow_m  \n",
      "0   5.248003  0.4902  0.7726  \n",
      "0   8.497954  0.5040  0.7896  \n",
      "0  11.269544  0.5342  0.8108  \n",
      "0  12.855490  0.5600  0.8370  \n",
      "0  14.196734  0.5996  0.8644  \n",
      "0  15.112640  0.6308  0.8840  \n",
      "0  15.822240  0.6466  0.8922  \n",
      "0  16.341520  0.6714  0.9068  \n",
      "0  16.730294  0.6996  0.9176  \n",
      "0   4.063531  0.4744  0.7570  \n",
      "0   9.395089  0.5616  0.8356  \n",
      "0  11.317821  0.6412  0.8852  \n",
      "0  11.830874  0.7142  0.9288  \n",
      "0  12.393823  0.7434  0.9396  \n",
      "0  12.864608  0.7734  0.9494  \n",
      "0  13.474521  0.7840  0.9478  \n",
      "0  13.946334  0.7960  0.9502  \n",
      "0  14.663761  0.7892  0.9426  \n",
      "Study chances = 36\n"
     ]
    },
    {
     "data": {
      "application/vnd.jupyter.widget-view+json": {
       "model_id": "06a724400ddb44a49ee9003b29847370",
       "version_major": 2,
       "version_minor": 0
      },
      "text/plain": [
       "0it [00:00, ?it/s]"
      ]
     },
     "metadata": {},
     "output_type": "display_data"
    },
    {
     "name": "stdout",
     "output_type": "stream",
     "text": [
      "fracsSetAll_41_True_1.csv\n"
     ]
    },
    {
     "data": {
      "application/vnd.jupyter.widget-view+json": {
       "model_id": "679515682a224bf4810bb41ca04aabde",
       "version_major": 2,
       "version_minor": 0
      },
      "text/plain": [
       "0it [00:00, ?it/s]"
      ]
     },
     "metadata": {},
     "output_type": "display_data"
    },
    {
     "name": "stdout",
     "output_type": "stream",
     "text": [
      "fracsSetAll_44_False_3.csv\n",
      "0 1\n"
     ]
    },
    {
     "data": {
      "application/vnd.jupyter.widget-view+json": {
       "model_id": "9cd512786fbe4184a3d97cc0d3ecb131",
       "version_major": 2,
       "version_minor": 0
      },
      "text/plain": [
       "  0%|          | 0/5000 [00:00<?, ?it/s]"
      ]
     },
     "metadata": {},
     "output_type": "display_data"
    },
    {
     "name": "stdout",
     "output_type": "stream",
     "text": [
      "N=400 hist=1 baseTF=True minSz=0 drg=0.2 -> RR50 = 0.4676 MPC = 0.7552\n",
      "(8.73: 21.83+-2.927 30.56+-3.253\n",
      "0 1\n"
     ]
    },
    {
     "data": {
      "application/vnd.jupyter.widget-view+json": {
       "model_id": "ce335b04f76948d9a5b303d8c30d20d5",
       "version_major": 2,
       "version_minor": 0
      },
      "text/plain": [
       "  0%|          | 0/5000 [00:00<?, ?it/s]"
      ]
     },
     "metadata": {},
     "output_type": "display_data"
    },
    {
     "name": "stdout",
     "output_type": "stream",
     "text": [
      "N=400 hist=1 baseTF=True minSz=1 drg=0.2 -> RR50 = 0.4912 MPC = 0.7814\n",
      "(9.22: 24.02+-3.018 33.25+-3.312\n",
      "0 1\n"
     ]
    },
    {
     "data": {
      "application/vnd.jupyter.widget-view+json": {
       "model_id": "8c46488986ba4fb6a32fdf3c9f71f227",
       "version_major": 2,
       "version_minor": 0
      },
      "text/plain": [
       "  0%|          | 0/5000 [00:00<?, ?it/s]"
      ]
     },
     "metadata": {},
     "output_type": "display_data"
    },
    {
     "name": "stdout",
     "output_type": "stream",
     "text": [
      "N=400 hist=1 baseTF=True minSz=2 drg=0.2 -> RR50 = 0.5036 MPC = 0.7948\n",
      "(9.506: 25.45+-3.027 34.95+-3.388\n",
      "0 1\n"
     ]
    },
    {
     "data": {
      "application/vnd.jupyter.widget-view+json": {
       "model_id": "d7df727380cd4f5397358e58239b6a95",
       "version_major": 2,
       "version_minor": 0
      },
      "text/plain": [
       "  0%|          | 0/5000 [00:00<?, ?it/s]"
      ]
     },
     "metadata": {},
     "output_type": "display_data"
    },
    {
     "name": "stdout",
     "output_type": "stream",
     "text": [
      "N=400 hist=1 baseTF=True minSz=3 drg=0.2 -> RR50 = 0.5288 MPC = 0.818\n",
      "(9.931: 26.03+-3.085 35.96+-3.383\n",
      "0 1\n"
     ]
    },
    {
     "data": {
      "application/vnd.jupyter.widget-view+json": {
       "model_id": "487965e3074d43d5a50a4f3dfbc63876",
       "version_major": 2,
       "version_minor": 0
      },
      "text/plain": [
       "  0%|          | 0/5000 [00:00<?, ?it/s]"
      ]
     },
     "metadata": {},
     "output_type": "display_data"
    },
    {
     "name": "stdout",
     "output_type": "stream",
     "text": [
      "N=400 hist=1 baseTF=True minSz=4 drg=0.2 -> RR50 = 0.5674 MPC = 0.841\n",
      "(10.31: 25.86+-3.103 36.18+-3.377\n",
      "0 1\n"
     ]
    },
    {
     "data": {
      "application/vnd.jupyter.widget-view+json": {
       "model_id": "b452a2732aa74c39bb1380fd1003079d",
       "version_major": 2,
       "version_minor": 0
      },
      "text/plain": [
       "  0%|          | 0/5000 [00:00<?, ?it/s]"
      ]
     },
     "metadata": {},
     "output_type": "display_data"
    },
    {
     "name": "stdout",
     "output_type": "stream",
     "text": [
      "N=400 hist=1 baseTF=True minSz=5 drg=0.2 -> RR50 = 0.609 MPC = 0.8636\n",
      "(10.76: 25.45+-3.025 36.21+-3.426\n",
      "0 1\n"
     ]
    },
    {
     "data": {
      "application/vnd.jupyter.widget-view+json": {
       "model_id": "f5c399e42f3f4fdba557c5101b4464bf",
       "version_major": 2,
       "version_minor": 0
      },
      "text/plain": [
       "  0%|          | 0/5000 [00:00<?, ?it/s]"
      ]
     },
     "metadata": {},
     "output_type": "display_data"
    },
    {
     "name": "stdout",
     "output_type": "stream",
     "text": [
      "N=400 hist=1 baseTF=True minSz=6 drg=0.2 -> RR50 = 0.6304 MPC = 0.876\n",
      "(10.98: 25.21+-3.037 36.19+-3.417\n",
      "0 1\n"
     ]
    },
    {
     "data": {
      "application/vnd.jupyter.widget-view+json": {
       "model_id": "6fcc797223ab4391b171e20104b45f20",
       "version_major": 2,
       "version_minor": 0
      },
      "text/plain": [
       "  0%|          | 0/5000 [00:00<?, ?it/s]"
      ]
     },
     "metadata": {},
     "output_type": "display_data"
    },
    {
     "name": "stdout",
     "output_type": "stream",
     "text": [
      "N=400 hist=1 baseTF=True minSz=7 drg=0.2 -> RR50 = 0.6534 MPC = 0.8834\n",
      "(11.3: 24.94+-3.128 36.24+-3.409\n",
      "0 1\n"
     ]
    },
    {
     "data": {
      "application/vnd.jupyter.widget-view+json": {
       "model_id": "c68053a38d93417ebb2f5de47c9db4fc",
       "version_major": 2,
       "version_minor": 0
      },
      "text/plain": [
       "  0%|          | 0/5000 [00:00<?, ?it/s]"
      ]
     },
     "metadata": {},
     "output_type": "display_data"
    },
    {
     "name": "stdout",
     "output_type": "stream",
     "text": [
      "N=400 hist=1 baseTF=True minSz=8 drg=0.2 -> RR50 = 0.6842 MPC = 0.9068\n",
      "(11.73: 24.64+-3.027 36.37+-3.378\n",
      "0 3\n"
     ]
    },
    {
     "data": {
      "application/vnd.jupyter.widget-view+json": {
       "model_id": "13b221894d05422bbbbb6516d712a732",
       "version_major": 2,
       "version_minor": 0
      },
      "text/plain": [
       "  0%|          | 0/5000 [00:00<?, ?it/s]"
      ]
     },
     "metadata": {},
     "output_type": "display_data"
    },
    {
     "name": "stdout",
     "output_type": "stream",
     "text": [
      "N=400 hist=3 baseTF=False minSz=0 drg=0.2 -> RR50 = 0.4594 MPC = 0.745\n",
      "(8.632: 21.57+-2.883 30.2+-3.249\n",
      "0 3\n"
     ]
    },
    {
     "data": {
      "application/vnd.jupyter.widget-view+json": {
       "model_id": "7864ac66e51040d49e118fc7f5d941ae",
       "version_major": 2,
       "version_minor": 0
      },
      "text/plain": [
       "  0%|          | 0/5000 [00:00<?, ?it/s]"
      ]
     },
     "metadata": {},
     "output_type": "display_data"
    },
    {
     "name": "stdout",
     "output_type": "stream",
     "text": [
      "N=400 hist=3 baseTF=False minSz=1 drg=0.2 -> RR50 = 0.5282 MPC = 0.8064\n",
      "(9.646: 23.98+-3.055 33.62+-3.352\n",
      "0 3\n"
     ]
    },
    {
     "data": {
      "application/vnd.jupyter.widget-view+json": {
       "model_id": "01db6fd9b47b47b2b38f1b376ab58037",
       "version_major": 2,
       "version_minor": 0
      },
      "text/plain": [
       "  0%|          | 0/5000 [00:00<?, ?it/s]"
      ]
     },
     "metadata": {},
     "output_type": "display_data"
    },
    {
     "name": "stdout",
     "output_type": "stream",
     "text": [
      "N=400 hist=3 baseTF=False minSz=2 drg=0.2 -> RR50 = 0.6312 MPC = 0.8674\n",
      "(10.72: 22.65+-3.005 33.37+-3.33\n",
      "0 3\n"
     ]
    },
    {
     "data": {
      "application/vnd.jupyter.widget-view+json": {
       "model_id": "d9f8b63fe085408881539b1450197ef1",
       "version_major": 2,
       "version_minor": 0
      },
      "text/plain": [
       "  0%|          | 0/5000 [00:00<?, ?it/s]"
      ]
     },
     "metadata": {},
     "output_type": "display_data"
    },
    {
     "name": "stdout",
     "output_type": "stream",
     "text": [
      "N=400 hist=3 baseTF=False minSz=3 drg=0.2 -> RR50 = 0.6836 MPC = 0.9148\n",
      "(11.28: 21.11+-2.913 32.39+-3.286\n",
      "0 3\n"
     ]
    },
    {
     "data": {
      "application/vnd.jupyter.widget-view+json": {
       "model_id": "8fb9af5775234844ba7dcede17636b92",
       "version_major": 2,
       "version_minor": 0
      },
      "text/plain": [
       "  0%|          | 0/5000 [00:00<?, ?it/s]"
      ]
     },
     "metadata": {},
     "output_type": "display_data"
    },
    {
     "name": "stdout",
     "output_type": "stream",
     "text": [
      "N=400 hist=3 baseTF=False minSz=4 drg=0.2 -> RR50 = 0.73 MPC = 0.9338\n",
      "(11.81: 19.81+-2.792 31.62+-3.27\n",
      "0 3\n"
     ]
    },
    {
     "data": {
      "application/vnd.jupyter.widget-view+json": {
       "model_id": "8017b59bab94418b9b080df0705fa082",
       "version_major": 2,
       "version_minor": 0
      },
      "text/plain": [
       "  0%|          | 0/5000 [00:00<?, ?it/s]"
      ]
     },
     "metadata": {},
     "output_type": "display_data"
    },
    {
     "name": "stdout",
     "output_type": "stream",
     "text": [
      "N=400 hist=3 baseTF=False minSz=5 drg=0.2 -> RR50 = 0.7732 MPC = 0.9418\n",
      "(12.16: 18.93+-2.727 31.09+-3.289\n",
      "0 3\n"
     ]
    },
    {
     "data": {
      "application/vnd.jupyter.widget-view+json": {
       "model_id": "3c877f21345a45ae9be43f01063e8bf8",
       "version_major": 2,
       "version_minor": 0
      },
      "text/plain": [
       "  0%|          | 0/5000 [00:00<?, ?it/s]"
      ]
     },
     "metadata": {},
     "output_type": "display_data"
    },
    {
     "name": "stdout",
     "output_type": "stream",
     "text": [
      "N=400 hist=3 baseTF=False minSz=6 drg=0.2 -> RR50 = 0.7978 MPC = 0.956\n",
      "(12.49: 18.4+-2.771 30.89+-3.268\n",
      "0 3\n"
     ]
    },
    {
     "data": {
      "application/vnd.jupyter.widget-view+json": {
       "model_id": "c662c25710e04d988a5741c231b6952c",
       "version_major": 2,
       "version_minor": 0
      },
      "text/plain": [
       "  0%|          | 0/5000 [00:00<?, ?it/s]"
      ]
     },
     "metadata": {},
     "output_type": "display_data"
    },
    {
     "name": "stdout",
     "output_type": "stream",
     "text": [
      "N=400 hist=3 baseTF=False minSz=7 drg=0.2 -> RR50 = 0.8108 MPC = 0.9508\n",
      "(12.59: 18.27+-2.749 30.87+-3.287\n",
      "0 3\n"
     ]
    },
    {
     "data": {
      "application/vnd.jupyter.widget-view+json": {
       "model_id": "250f995e95e84258a7de7eb68d18a5c1",
       "version_major": 2,
       "version_minor": 0
      },
      "text/plain": [
       "  0%|          | 0/5000 [00:00<?, ?it/s]"
      ]
     },
     "metadata": {},
     "output_type": "display_data"
    },
    {
     "name": "stdout",
     "output_type": "stream",
     "text": [
      "N=400 hist=3 baseTF=False minSz=8 drg=0.2 -> RR50 = 0.824 MPC = 0.9488\n",
      "(12.81: 18.43+-2.79 31.24+-3.249\n",
      "     N  minSz  DRG  PCB  history  baseTF    diffR      diffM    PCB_R  \\\n",
      "0  400      0  0.2    0        1    True   8.7300  21.346519  21.8292   \n",
      "0  400      1  0.2    0        1    True   9.2205  20.757619  24.0249   \n",
      "0  400      2  0.2    0        1    True   9.5064  18.942420  25.4462   \n",
      "0  400      3  0.2    0        1    True   9.9314  17.737616  26.0287   \n",
      "0  400      4  0.2    0        1    True  10.3127  16.947963  25.8625   \n",
      "0  400      5  0.2    0        1    True  10.7582  16.647669  25.4514   \n",
      "0  400      6  0.2    0        1    True  10.9845  16.246966  25.2058   \n",
      "0  400      7  0.2    0        1    True  11.3046  16.117098  24.9362   \n",
      "0  400      8  0.2    0        1    True  11.7348  16.148933  24.6381   \n",
      "0  400      0  0.2    0        3   False   8.6317  20.655813  21.5658   \n",
      "0  400      1  0.2    0        3   False   9.6464  19.266128  23.9757   \n",
      "0  400      2  0.2    0        3   False  10.7216  17.943903  22.6492   \n",
      "0  400      3  0.2    0        3   False  11.2805  17.491714  21.1067   \n",
      "0  400      4  0.2    0        3   False  11.8068  17.213419  19.8120   \n",
      "0  400      5  0.2    0        3   False  12.1561  17.038773  18.9334   \n",
      "0  400      6  0.2    0        3   False  12.4931  16.975929  18.3998   \n",
      "0  400      7  0.2    0        3   False  12.5924  16.713013  18.2730   \n",
      "0  400      8  0.2    0        3   False  12.8098  16.712752  18.4253   \n",
      "\n",
      "       PCB_M   pow_r   pow_m  \n",
      "0   5.835995  0.4676  0.7552  \n",
      "0   9.592680  0.4912  0.7814  \n",
      "0  12.704710  0.5036  0.7948  \n",
      "0  14.807825  0.5288  0.8180  \n",
      "0  16.330624  0.5674  0.8410  \n",
      "0  17.383095  0.6090  0.8636  \n",
      "0  18.344335  0.6304  0.8760  \n",
      "0  18.880133  0.6534  0.8834  \n",
      "0  19.396164  0.6842  0.9068  \n",
      "0   4.613501  0.4594  0.7450  \n",
      "0  11.515334  0.5282  0.8064  \n",
      "0  13.620020  0.6312  0.8674  \n",
      "0  14.340939  0.6836  0.9148  \n",
      "0  14.826414  0.7300  0.9338  \n",
      "0  15.244636  0.7732  0.9418  \n",
      "0  15.684148  0.7978  0.9560  \n",
      "0  16.222387  0.8108  0.9508  \n",
      "0  16.733890  0.8240  0.9488  \n",
      "Study chances = 48\n"
     ]
    },
    {
     "data": {
      "application/vnd.jupyter.widget-view+json": {
       "model_id": "1869dd8df9d04bb8a98a7ec9779b96df",
       "version_major": 2,
       "version_minor": 0
      },
      "text/plain": [
       "0it [00:00, ?it/s]"
      ]
     },
     "metadata": {},
     "output_type": "display_data"
    },
    {
     "name": "stdout",
     "output_type": "stream",
     "text": [
      "fracsSetAll_53_True_1.csv\n"
     ]
    },
    {
     "data": {
      "application/vnd.jupyter.widget-view+json": {
       "model_id": "a5508ff35c1a4779ae2e6589273070b7",
       "version_major": 2,
       "version_minor": 0
      },
      "text/plain": [
       "0it [00:00, ?it/s]"
      ]
     },
     "metadata": {},
     "output_type": "display_data"
    },
    {
     "name": "stdout",
     "output_type": "stream",
     "text": [
      "fracsSetAll_56_False_3.csv\n",
      "0 1\n"
     ]
    },
    {
     "data": {
      "application/vnd.jupyter.widget-view+json": {
       "model_id": "0caf3cac7dbe41c388e180aaae106d77",
       "version_major": 2,
       "version_minor": 0
      },
      "text/plain": [
       "  0%|          | 0/5000 [00:00<?, ?it/s]"
      ]
     },
     "metadata": {},
     "output_type": "display_data"
    },
    {
     "name": "stdout",
     "output_type": "stream",
     "text": [
      "N=400 hist=1 baseTF=True minSz=0 drg=0.2 -> RR50 = 0.471 MPC = 0.7524\n",
      "(8.774: 21.92+-2.925 30.69+-3.254\n",
      "0 1\n"
     ]
    },
    {
     "data": {
      "application/vnd.jupyter.widget-view+json": {
       "model_id": "65c8239f5a404b0eb886366436d158b5",
       "version_major": 2,
       "version_minor": 0
      },
      "text/plain": [
       "  0%|          | 0/5000 [00:00<?, ?it/s]"
      ]
     },
     "metadata": {},
     "output_type": "display_data"
    },
    {
     "name": "stdout",
     "output_type": "stream",
     "text": [
      "N=400 hist=1 baseTF=True minSz=1 drg=0.2 -> RR50 = 0.4752 MPC = 0.768\n",
      "(9.116: 24.38+-3.018 33.49+-3.36\n",
      "0 1\n"
     ]
    },
    {
     "data": {
      "application/vnd.jupyter.widget-view+json": {
       "model_id": "36b095ae176d430e82e790699e011b08",
       "version_major": 2,
       "version_minor": 0
      },
      "text/plain": [
       "  0%|          | 0/5000 [00:00<?, ?it/s]"
      ]
     },
     "metadata": {},
     "output_type": "display_data"
    },
    {
     "name": "stdout",
     "output_type": "stream",
     "text": [
      "N=400 hist=1 baseTF=True minSz=2 drg=0.2 -> RR50 = 0.4926 MPC = 0.7822\n",
      "(9.443: 25.97+-3.068 35.41+-3.382\n",
      "0 1\n"
     ]
    },
    {
     "data": {
      "application/vnd.jupyter.widget-view+json": {
       "model_id": "5b88d763a4c7491cb6e04abd54ca3de9",
       "version_major": 2,
       "version_minor": 0
      },
      "text/plain": [
       "  0%|          | 0/5000 [00:00<?, ?it/s]"
      ]
     },
     "metadata": {},
     "output_type": "display_data"
    },
    {
     "name": "stdout",
     "output_type": "stream",
     "text": [
      "N=400 hist=1 baseTF=True minSz=3 drg=0.2 -> RR50 = 0.5274 MPC = 0.8058\n",
      "(9.88: 26.72+-3.113 36.6+-3.364\n",
      "0 1\n"
     ]
    },
    {
     "data": {
      "application/vnd.jupyter.widget-view+json": {
       "model_id": "bf52637f8acb423e8538eecea5d139df",
       "version_major": 2,
       "version_minor": 0
      },
      "text/plain": [
       "  0%|          | 0/5000 [00:00<?, ?it/s]"
      ]
     },
     "metadata": {},
     "output_type": "display_data"
    },
    {
     "name": "stdout",
     "output_type": "stream",
     "text": [
      "N=400 hist=1 baseTF=True minSz=4 drg=0.2 -> RR50 = 0.5698 MPC = 0.837\n",
      "(10.43: 26.5+-3.082 36.93+-3.394\n",
      "0 1\n"
     ]
    },
    {
     "data": {
      "application/vnd.jupyter.widget-view+json": {
       "model_id": "8dd68adb0d3c43dd9f6956af9dbbd6f0",
       "version_major": 2,
       "version_minor": 0
      },
      "text/plain": [
       "  0%|          | 0/5000 [00:00<?, ?it/s]"
      ]
     },
     "metadata": {},
     "output_type": "display_data"
    },
    {
     "name": "stdout",
     "output_type": "stream",
     "text": [
      "N=400 hist=1 baseTF=True minSz=5 drg=0.2 -> RR50 = 0.5914 MPC = 0.8376\n",
      "(10.54: 26.31+-3.101 36.85+-3.391\n",
      "0 1\n"
     ]
    },
    {
     "data": {
      "application/vnd.jupyter.widget-view+json": {
       "model_id": "2cf312be28d147dd98f3aaaf47673e18",
       "version_major": 2,
       "version_minor": 0
      },
      "text/plain": [
       "  0%|          | 0/5000 [00:00<?, ?it/s]"
      ]
     },
     "metadata": {},
     "output_type": "display_data"
    },
    {
     "name": "stdout",
     "output_type": "stream",
     "text": [
      "N=400 hist=1 baseTF=True minSz=6 drg=0.2 -> RR50 = 0.6294 MPC = 0.8682\n",
      "(11.02: 25.99+-3.116 37.02+-3.432\n",
      "0 1\n"
     ]
    },
    {
     "data": {
      "application/vnd.jupyter.widget-view+json": {
       "model_id": "95404040a25949e483c7e6aa2bad8fcf",
       "version_major": 2,
       "version_minor": 0
      },
      "text/plain": [
       "  0%|          | 0/5000 [00:00<?, ?it/s]"
      ]
     },
     "metadata": {},
     "output_type": "display_data"
    },
    {
     "name": "stdout",
     "output_type": "stream",
     "text": [
      "N=400 hist=1 baseTF=True minSz=7 drg=0.2 -> RR50 = 0.6424 MPC = 0.8816\n",
      "(11.27: 25.82+-3.113 37.09+-3.437\n",
      "0 1\n"
     ]
    },
    {
     "data": {
      "application/vnd.jupyter.widget-view+json": {
       "model_id": "613057b5cc324bcb8797b5c0e52ea347",
       "version_major": 2,
       "version_minor": 0
      },
      "text/plain": [
       "  0%|          | 0/5000 [00:00<?, ?it/s]"
      ]
     },
     "metadata": {},
     "output_type": "display_data"
    },
    {
     "name": "stdout",
     "output_type": "stream",
     "text": [
      "N=400 hist=1 baseTF=True minSz=8 drg=0.2 -> RR50 = 0.6644 MPC = 0.8914\n",
      "(11.48: 25.61+-3.062 37.08+-3.391\n",
      "0 3\n"
     ]
    },
    {
     "data": {
      "application/vnd.jupyter.widget-view+json": {
       "model_id": "10340394514e489bb06df6a6e4b79253",
       "version_major": 2,
       "version_minor": 0
      },
      "text/plain": [
       "  0%|          | 0/5000 [00:00<?, ?it/s]"
      ]
     },
     "metadata": {},
     "output_type": "display_data"
    },
    {
     "name": "stdout",
     "output_type": "stream",
     "text": [
      "N=400 hist=3 baseTF=False minSz=0 drg=0.2 -> RR50 = 0.4682 MPC = 0.7582\n",
      "(8.712: 21.61+-2.902 30.33+-3.227\n",
      "0 3\n"
     ]
    },
    {
     "data": {
      "application/vnd.jupyter.widget-view+json": {
       "model_id": "286f175376064c8dabd0e31da5d22e06",
       "version_major": 2,
       "version_minor": 0
      },
      "text/plain": [
       "  0%|          | 0/5000 [00:00<?, ?it/s]"
      ]
     },
     "metadata": {},
     "output_type": "display_data"
    },
    {
     "name": "stdout",
     "output_type": "stream",
     "text": [
      "N=400 hist=3 baseTF=False minSz=1 drg=0.2 -> RR50 = 0.532 MPC = 0.805\n",
      "(9.771: 24.42+-3.066 34.19+-3.348\n",
      "0 3\n"
     ]
    },
    {
     "data": {
      "application/vnd.jupyter.widget-view+json": {
       "model_id": "1b8ca317cc2a47a9bd2a61016076021f",
       "version_major": 2,
       "version_minor": 0
      },
      "text/plain": [
       "  0%|          | 0/5000 [00:00<?, ?it/s]"
      ]
     },
     "metadata": {},
     "output_type": "display_data"
    },
    {
     "name": "stdout",
     "output_type": "stream",
     "text": [
      "N=400 hist=3 baseTF=False minSz=2 drg=0.2 -> RR50 = 0.6114 MPC = 0.868\n",
      "(10.63: 23.35+-2.972 33.97+-3.401\n",
      "0 3\n"
     ]
    },
    {
     "data": {
      "application/vnd.jupyter.widget-view+json": {
       "model_id": "039c1798676649dc89387735c00cd9ce",
       "version_major": 2,
       "version_minor": 0
      },
      "text/plain": [
       "  0%|          | 0/5000 [00:00<?, ?it/s]"
      ]
     },
     "metadata": {},
     "output_type": "display_data"
    },
    {
     "name": "stdout",
     "output_type": "stream",
     "text": [
      "N=400 hist=3 baseTF=False minSz=3 drg=0.2 -> RR50 = 0.6854 MPC = 0.9088\n",
      "(11.37: 21.75+-2.924 33.13+-3.326\n",
      "0 3\n"
     ]
    },
    {
     "data": {
      "application/vnd.jupyter.widget-view+json": {
       "model_id": "eb91f472ccda4d5dae44d730d87faa06",
       "version_major": 2,
       "version_minor": 0
      },
      "text/plain": [
       "  0%|          | 0/5000 [00:00<?, ?it/s]"
      ]
     },
     "metadata": {},
     "output_type": "display_data"
    },
    {
     "name": "stdout",
     "output_type": "stream",
     "text": [
      "N=400 hist=3 baseTF=False minSz=4 drg=0.2 -> RR50 = 0.7386 MPC = 0.9312\n",
      "(11.89: 20.49+-2.86 32.38+-3.282\n",
      "0 3\n"
     ]
    },
    {
     "data": {
      "application/vnd.jupyter.widget-view+json": {
       "model_id": "b9c9c069a34e4e1cb62be4b89964bd9d",
       "version_major": 2,
       "version_minor": 0
      },
      "text/plain": [
       "  0%|          | 0/5000 [00:00<?, ?it/s]"
      ]
     },
     "metadata": {},
     "output_type": "display_data"
    },
    {
     "name": "stdout",
     "output_type": "stream",
     "text": [
      "N=400 hist=3 baseTF=False minSz=5 drg=0.2 -> RR50 = 0.7764 MPC = 0.9446\n",
      "(12.31: 19.58+-2.797 31.89+-3.349\n",
      "0 3\n"
     ]
    },
    {
     "data": {
      "application/vnd.jupyter.widget-view+json": {
       "model_id": "db6708042e1049cd871b90854acead20",
       "version_major": 2,
       "version_minor": 0
      },
      "text/plain": [
       "  0%|          | 0/5000 [00:00<?, ?it/s]"
      ]
     },
     "metadata": {},
     "output_type": "display_data"
    },
    {
     "name": "stdout",
     "output_type": "stream",
     "text": [
      "N=400 hist=3 baseTF=False minSz=6 drg=0.2 -> RR50 = 0.8054 MPC = 0.9516\n",
      "(12.64: 18.92+-2.774 31.56+-3.234\n",
      "0 3\n"
     ]
    },
    {
     "data": {
      "application/vnd.jupyter.widget-view+json": {
       "model_id": "50905c928cca4566aa4ad4f174428980",
       "version_major": 2,
       "version_minor": 0
      },
      "text/plain": [
       "  0%|          | 0/5000 [00:00<?, ?it/s]"
      ]
     },
     "metadata": {},
     "output_type": "display_data"
    },
    {
     "name": "stdout",
     "output_type": "stream",
     "text": [
      "N=400 hist=3 baseTF=False minSz=7 drg=0.2 -> RR50 = 0.8232 MPC = 0.9538\n",
      "(12.92: 18.56+-2.772 31.49+-3.235\n",
      "0 3\n"
     ]
    },
    {
     "data": {
      "application/vnd.jupyter.widget-view+json": {
       "model_id": "7934eb93a6914803a34447da326f7f71",
       "version_major": 2,
       "version_minor": 0
      },
      "text/plain": [
       "  0%|          | 0/5000 [00:00<?, ?it/s]"
      ]
     },
     "metadata": {},
     "output_type": "display_data"
    },
    {
     "name": "stdout",
     "output_type": "stream",
     "text": [
      "N=400 hist=3 baseTF=False minSz=8 drg=0.2 -> RR50 = 0.8256 MPC = 0.9458\n",
      "(12.94: 18.79+-2.78 31.74+-3.298\n",
      "     N  minSz  DRG  PCB  history  baseTF    diffR      diffM    PCB_R  \\\n",
      "0  400      0  0.2    0        1    True   8.7736  21.363448  21.9211   \n",
      "0  400      1  0.2    0        1    True   9.1157  20.380270  24.3792   \n",
      "0  400      2  0.2    0        1    True   9.4427  18.643453  25.9651   \n",
      "0  400      3  0.2    0        1    True   9.8797  17.373489  26.7230   \n",
      "0  400      4  0.2    0        1    True  10.4262  16.759454  26.5018   \n",
      "0  400      5  0.2    0        1    True  10.5351  15.960499  26.3143   \n",
      "0  400      6  0.2    0        1    True  11.0214  16.046813  25.9942   \n",
      "0  400      7  0.2    0        1    True  11.2689  15.784483  25.8198   \n",
      "0  400      8  0.2    0        1    True  11.4762  15.657909  25.6072   \n",
      "0  400      0  0.2    0        3   False   8.7117  21.018545  21.6137   \n",
      "0  400      1  0.2    0        3   False   9.7706  19.089394  24.4193   \n",
      "0  400      2  0.2    0        3   False  10.6267  17.759065  23.3477   \n",
      "0  400      3  0.2    0        3   False  11.3711  17.267676  21.7541   \n",
      "0  400      4  0.2    0        3   False  11.8880  17.049470  20.4904   \n",
      "0  400      5  0.2    0        3   False  12.3079  16.917207  19.5808   \n",
      "0  400      6  0.2    0        3   False  12.6413  16.755646  18.9180   \n",
      "0  400      7  0.2    0        3   False  12.9243  16.649886  18.5649   \n",
      "0  400      8  0.2    0        3   False  12.9442  16.368322  18.7918   \n",
      "\n",
      "       PCB_M   pow_r   pow_m  \n",
      "0   5.971133  0.4710  0.7524  \n",
      "0  10.170239  0.4752  0.7680  \n",
      "0  13.283312  0.4926  0.7822  \n",
      "0  15.559305  0.5274  0.8058  \n",
      "0  17.025474  0.5698  0.8370  \n",
      "0  18.479279  0.5914  0.8376  \n",
      "0  19.129616  0.6294  0.8682  \n",
      "0  19.991300  0.6424  0.8816  \n",
      "0  20.467404  0.6644  0.8914  \n",
      "0   4.618450  0.4682  0.7582  \n",
      "0  12.235264  0.5320  0.8050  \n",
      "0  14.307800  0.6114  0.8680  \n",
      "0  15.191738  0.6854  0.9088  \n",
      "0  15.717708  0.7386  0.9312  \n",
      "0  16.130158  0.7764  0.9446  \n",
      "0  16.494315  0.8054  0.9516  \n",
      "0  16.958317  0.8232  0.9538  \n",
      "0  17.644510  0.8256  0.9458  \n",
      "Study chances = 120\n"
     ]
    },
    {
     "data": {
      "application/vnd.jupyter.widget-view+json": {
       "model_id": "481bd4615e2f4d1ba425e838771d5c7c",
       "version_major": 2,
       "version_minor": 0
      },
      "text/plain": [
       "0it [00:00, ?it/s]"
      ]
     },
     "metadata": {},
     "output_type": "display_data"
    },
    {
     "name": "stdout",
     "output_type": "stream",
     "text": [
      "fracsSetAll_125_True_1.csv\n"
     ]
    },
    {
     "data": {
      "application/vnd.jupyter.widget-view+json": {
       "model_id": "8fe0f7ab92934962a51d31259e9f8a74",
       "version_major": 2,
       "version_minor": 0
      },
      "text/plain": [
       "0it [00:00, ?it/s]"
      ]
     },
     "metadata": {},
     "output_type": "display_data"
    },
    {
     "name": "stdout",
     "output_type": "stream",
     "text": [
      "fracsSetAll_128_False_3.csv\n",
      "0 1\n"
     ]
    },
    {
     "data": {
      "application/vnd.jupyter.widget-view+json": {
       "model_id": "5bd4c58a35044f3b9696f070b2f08243",
       "version_major": 2,
       "version_minor": 0
      },
      "text/plain": [
       "  0%|          | 0/5000 [00:00<?, ?it/s]"
      ]
     },
     "metadata": {},
     "output_type": "display_data"
    },
    {
     "name": "stdout",
     "output_type": "stream",
     "text": [
      "N=400 hist=1 baseTF=True minSz=0 drg=0.2 -> RR50 = 0.4664 MPC = 0.7554\n",
      "(8.817: 22.16+-2.936 30.97+-3.23\n",
      "0 1\n"
     ]
    },
    {
     "data": {
      "application/vnd.jupyter.widget-view+json": {
       "model_id": "19fcc9598b354815bb5f243609e62bdb",
       "version_major": 2,
       "version_minor": 0
      },
      "text/plain": [
       "  0%|          | 0/5000 [00:00<?, ?it/s]"
      ]
     },
     "metadata": {},
     "output_type": "display_data"
    },
    {
     "name": "stdout",
     "output_type": "stream",
     "text": [
      "N=400 hist=1 baseTF=True minSz=1 drg=0.2 -> RR50 = 0.4808 MPC = 0.7468\n",
      "(9.056: 25.12+-3.061 34.17+-3.322\n",
      "0 1\n"
     ]
    },
    {
     "data": {
      "application/vnd.jupyter.widget-view+json": {
       "model_id": "0a8a041f17794140932feac2804f1453",
       "version_major": 2,
       "version_minor": 0
      },
      "text/plain": [
       "  0%|          | 0/5000 [00:00<?, ?it/s]"
      ]
     },
     "metadata": {},
     "output_type": "display_data"
    },
    {
     "name": "stdout",
     "output_type": "stream",
     "text": [
      "N=400 hist=1 baseTF=True minSz=2 drg=0.2 -> RR50 = 0.465 MPC = 0.7608\n",
      "(9.296: 27.11+-3.131 36.41+-3.402\n",
      "0 1\n"
     ]
    },
    {
     "data": {
      "application/vnd.jupyter.widget-view+json": {
       "model_id": "1fa8bb048d31475f88d8929bc0ad75af",
       "version_major": 2,
       "version_minor": 0
      },
      "text/plain": [
       "  0%|          | 0/5000 [00:00<?, ?it/s]"
      ]
     },
     "metadata": {},
     "output_type": "display_data"
    },
    {
     "name": "stdout",
     "output_type": "stream",
     "text": [
      "N=400 hist=1 baseTF=True minSz=3 drg=0.2 -> RR50 = 0.5082 MPC = 0.785\n",
      "(9.667: 28.3+-3.165 37.96+-3.469\n",
      "0 1\n"
     ]
    },
    {
     "data": {
      "application/vnd.jupyter.widget-view+json": {
       "model_id": "6018e563f57743ef8c06b3e0e8b64604",
       "version_major": 2,
       "version_minor": 0
      },
      "text/plain": [
       "  0%|          | 0/5000 [00:00<?, ?it/s]"
      ]
     },
     "metadata": {},
     "output_type": "display_data"
    },
    {
     "name": "stdout",
     "output_type": "stream",
     "text": [
      "N=400 hist=1 baseTF=True minSz=4 drg=0.2 -> RR50 = 0.5338 MPC = 0.8096\n",
      "(10.19: 28.44+-3.134 38.63+-3.468\n",
      "0 1\n"
     ]
    },
    {
     "data": {
      "application/vnd.jupyter.widget-view+json": {
       "model_id": "5fc2548ddea44535bcbe475a50106488",
       "version_major": 2,
       "version_minor": 0
      },
      "text/plain": [
       "  0%|          | 0/5000 [00:00<?, ?it/s]"
      ]
     },
     "metadata": {},
     "output_type": "display_data"
    },
    {
     "name": "stdout",
     "output_type": "stream",
     "text": [
      "N=400 hist=1 baseTF=True minSz=5 drg=0.2 -> RR50 = 0.5626 MPC = 0.8194\n",
      "(10.45: 28.51+- 3.2 38.97+-3.408\n",
      "0 1\n"
     ]
    },
    {
     "data": {
      "application/vnd.jupyter.widget-view+json": {
       "model_id": "9b42862e20cb4f23b731a8f3bfffef24",
       "version_major": 2,
       "version_minor": 0
      },
      "text/plain": [
       "  0%|          | 0/5000 [00:00<?, ?it/s]"
      ]
     },
     "metadata": {},
     "output_type": "display_data"
    },
    {
     "name": "stdout",
     "output_type": "stream",
     "text": [
      "N=400 hist=1 baseTF=True minSz=6 drg=0.2 -> RR50 = 0.59 MPC = 0.8372\n",
      "(10.76: 28.51+-3.18 39.27+-3.41\n",
      "0 1\n"
     ]
    },
    {
     "data": {
      "application/vnd.jupyter.widget-view+json": {
       "model_id": "3b3426c2265c4d1f8a0d7e16aed18a76",
       "version_major": 2,
       "version_minor": 0
      },
      "text/plain": [
       "  0%|          | 0/5000 [00:00<?, ?it/s]"
      ]
     },
     "metadata": {},
     "output_type": "display_data"
    },
    {
     "name": "stdout",
     "output_type": "stream",
     "text": [
      "N=400 hist=1 baseTF=True minSz=7 drg=0.2 -> RR50 = 0.6048 MPC = 0.8514\n",
      "(11.05: 28.46+-3.204 39.52+-3.452\n",
      "0 1\n"
     ]
    },
    {
     "data": {
      "application/vnd.jupyter.widget-view+json": {
       "model_id": "59e1f78ab38e4bcb8089f967d7a4d9c6",
       "version_major": 2,
       "version_minor": 0
      },
      "text/plain": [
       "  0%|          | 0/5000 [00:00<?, ?it/s]"
      ]
     },
     "metadata": {},
     "output_type": "display_data"
    },
    {
     "name": "stdout",
     "output_type": "stream",
     "text": [
      "N=400 hist=1 baseTF=True minSz=8 drg=0.2 -> RR50 = 0.6328 MPC = 0.8622\n",
      "(11.33: 28.41+-3.205 39.74+-3.462\n",
      "0 3\n"
     ]
    },
    {
     "data": {
      "application/vnd.jupyter.widget-view+json": {
       "model_id": "1ff7c2bf99df4239ac76fe895fa1eba3",
       "version_major": 2,
       "version_minor": 0
      },
      "text/plain": [
       "  0%|          | 0/5000 [00:00<?, ?it/s]"
      ]
     },
     "metadata": {},
     "output_type": "display_data"
    },
    {
     "name": "stdout",
     "output_type": "stream",
     "text": [
      "N=400 hist=3 baseTF=False minSz=0 drg=0.2 -> RR50 = 0.4518 MPC = 0.7408\n",
      "(8.58: 22.02+-2.905 30.6+-3.184\n",
      "0 3\n"
     ]
    },
    {
     "data": {
      "application/vnd.jupyter.widget-view+json": {
       "model_id": "322898bf6b714f6d8fb622af655ea26d",
       "version_major": 2,
       "version_minor": 0
      },
      "text/plain": [
       "  0%|          | 0/5000 [00:00<?, ?it/s]"
      ]
     },
     "metadata": {},
     "output_type": "display_data"
    },
    {
     "name": "stdout",
     "output_type": "stream",
     "text": [
      "N=400 hist=3 baseTF=False minSz=1 drg=0.2 -> RR50 = 0.5112 MPC = 0.7918\n",
      "(9.618: 25.91+-3.069 35.53+-3.303\n",
      "0 3\n"
     ]
    },
    {
     "data": {
      "application/vnd.jupyter.widget-view+json": {
       "model_id": "8c046713755b49c4b8c168cac148b063",
       "version_major": 2,
       "version_minor": 0
      },
      "text/plain": [
       "  0%|          | 0/5000 [00:00<?, ?it/s]"
      ]
     },
     "metadata": {},
     "output_type": "display_data"
    },
    {
     "name": "stdout",
     "output_type": "stream",
     "text": [
      "N=400 hist=3 baseTF=False minSz=2 drg=0.2 -> RR50 = 0.5932 MPC = 0.841\n",
      "(10.61: 25.38+-3.056 35.99+- 3.4\n",
      "0 3\n"
     ]
    },
    {
     "data": {
      "application/vnd.jupyter.widget-view+json": {
       "model_id": "a26acdfb4bd747999f389fd1e8b98229",
       "version_major": 2,
       "version_minor": 0
      },
      "text/plain": [
       "  0%|          | 0/5000 [00:00<?, ?it/s]"
      ]
     },
     "metadata": {},
     "output_type": "display_data"
    },
    {
     "name": "stdout",
     "output_type": "stream",
     "text": [
      "N=400 hist=3 baseTF=False minSz=3 drg=0.2 -> RR50 = 0.6616 MPC = 0.891\n",
      "(11.35: 23.9+-2.992 35.25+-3.32\n",
      "0 3\n"
     ]
    },
    {
     "data": {
      "application/vnd.jupyter.widget-view+json": {
       "model_id": "c42f34917cd2447f982f90b347ccf181",
       "version_major": 2,
       "version_minor": 0
      },
      "text/plain": [
       "  0%|          | 0/5000 [00:00<?, ?it/s]"
      ]
     },
     "metadata": {},
     "output_type": "display_data"
    },
    {
     "name": "stdout",
     "output_type": "stream",
     "text": [
      "N=400 hist=3 baseTF=False minSz=4 drg=0.2 -> RR50 = 0.731 MPC = 0.9222\n",
      "(11.99: 22.51+-2.974 34.5+-3.362\n",
      "0 3\n"
     ]
    },
    {
     "data": {
      "application/vnd.jupyter.widget-view+json": {
       "model_id": "0b82f80d2ed343c8bd4df120147c33c3",
       "version_major": 2,
       "version_minor": 0
      },
      "text/plain": [
       "  0%|          | 0/5000 [00:00<?, ?it/s]"
      ]
     },
     "metadata": {},
     "output_type": "display_data"
    },
    {
     "name": "stdout",
     "output_type": "stream",
     "text": [
      "N=400 hist=3 baseTF=False minSz=5 drg=0.2 -> RR50 = 0.7734 MPC = 0.9382\n",
      "(12.58: 21.36+-2.925 33.94+-3.371\n",
      "0 3\n"
     ]
    },
    {
     "data": {
      "application/vnd.jupyter.widget-view+json": {
       "model_id": "fa71a5f719ad4b13b08203e8954772b7",
       "version_major": 2,
       "version_minor": 0
      },
      "text/plain": [
       "  0%|          | 0/5000 [00:00<?, ?it/s]"
      ]
     },
     "metadata": {},
     "output_type": "display_data"
    },
    {
     "name": "stdout",
     "output_type": "stream",
     "text": [
      "N=400 hist=3 baseTF=False minSz=6 drg=0.2 -> RR50 = 0.8062 MPC = 0.9524\n",
      "(12.95: 20.63+-2.846 33.58+-3.322\n",
      "0 3\n"
     ]
    },
    {
     "data": {
      "application/vnd.jupyter.widget-view+json": {
       "model_id": "96e2dde0f0ac4dcaa2029a5244a6eb79",
       "version_major": 2,
       "version_minor": 0
      },
      "text/plain": [
       "  0%|          | 0/5000 [00:00<?, ?it/s]"
      ]
     },
     "metadata": {},
     "output_type": "display_data"
    },
    {
     "name": "stdout",
     "output_type": "stream",
     "text": [
      "N=400 hist=3 baseTF=False minSz=7 drg=0.2 -> RR50 = 0.8136 MPC = 0.9548\n",
      "(13.18: 20.18+-2.868 33.35+-3.336\n",
      "0 3\n"
     ]
    },
    {
     "data": {
      "application/vnd.jupyter.widget-view+json": {
       "model_id": "cf5e63be579a41378b31875fb47ede39",
       "version_major": 2,
       "version_minor": 0
      },
      "text/plain": [
       "  0%|          | 0/5000 [00:00<?, ?it/s]"
      ]
     },
     "metadata": {},
     "output_type": "display_data"
    },
    {
     "name": "stdout",
     "output_type": "stream",
     "text": [
      "N=400 hist=3 baseTF=False minSz=8 drg=0.2 -> RR50 = 0.8366 MPC = 0.9544\n",
      "(13.43: 20.06+-2.845 33.49+-3.302\n",
      "     N  minSz  DRG  PCB  history  baseTF    diffR      diffM    PCB_R  \\\n",
      "0  400      0  0.2    0        1    True   8.8170  21.440821  22.1573   \n",
      "0  400      1  0.2    0        1    True   9.0560  20.011330  25.1168   \n",
      "0  400      2  0.2    0        1    True   9.2959  17.760453  27.1130   \n",
      "0  400      3  0.2    0        1    True   9.6670  16.483481  28.2950   \n",
      "0  400      4  0.2    0        1    True  10.1899  15.756973  28.4355   \n",
      "0  400      5  0.2    0        1    True  10.4514  15.217509  28.5147   \n",
      "0  400      6  0.2    0        1    True  10.7631  15.171359  28.5085   \n",
      "0  400      7  0.2    0        1    True  11.0540  15.342069  28.4616   \n",
      "0  400      8  0.2    0        1    True  11.3308  15.225958  28.4140   \n",
      "0  400      0  0.2    0        3   False   8.5798  20.624197  22.0244   \n",
      "0  400      1  0.2    0        3   False   9.6178  18.265876  25.9126   \n",
      "0  400      2  0.2    0        3   False  10.6092  16.779515  25.3821   \n",
      "0  400      3  0.2    0        3   False  11.3460  16.416281  23.9014   \n",
      "0  400      4  0.2    0        3   False  11.9881  16.366820  22.5123   \n",
      "0  400      5  0.2    0        3   False  12.5770  16.151652  21.3642   \n",
      "0  400      6  0.2    0        3   False  12.9500  16.161059  20.6312   \n",
      "0  400      7  0.2    0        3   False  13.1751  16.062442  20.1765   \n",
      "0  400      8  0.2    0        3   False  13.4292  15.989729  20.0635   \n",
      "\n",
      "       PCB_M   pow_r   pow_m  \n",
      "0   6.243836  0.4664  0.7554  \n",
      "0  11.052506  0.4808  0.7468  \n",
      "0  14.869839  0.4650  0.7608  \n",
      "0  17.373265  0.5082  0.7850  \n",
      "0  19.287134  0.5338  0.8096  \n",
      "0  21.012486  0.5626  0.8194  \n",
      "0  22.039005  0.5900  0.8372  \n",
      "0  22.775876  0.6048  0.8514  \n",
      "0  23.540558  0.6328  0.8622  \n",
      "0   5.170761  0.4518  0.7408  \n",
      "0  14.027842  0.5112  0.7918  \n",
      "0  16.683099  0.5932  0.8410  \n",
      "0  17.690480  0.6616  0.8910  \n",
      "0  18.097445  0.7310  0.9222  \n",
      "0  18.643308  0.7734  0.9382  \n",
      "0  18.942514  0.8062  0.9524  \n",
      "0  19.391802  0.8136  0.9548  \n",
      "0  19.881599  0.8366  0.9544  \n"
     ]
    }
   ],
   "source": [
    "%reload_ext autoreload\n",
    "%autoreload 2\n",
    "from RTM_funcs import build_a_set_of_frac_noSF,make_RCT_efficiency_check,go_read_pow_data\n",
    "#studyChances = 6\n",
    "for studyChances in [24,6,12,18,36,48,120]:\n",
    "    print(f'Study chances = {studyChances}')\n",
    "    build_a_set_of_frac_noSF(studyChances=studyChances)\n",
    "    make_RCT_efficiency_check(fn=f'RCT_eff_{studyChances}.csv',howLong=studyChances,saveFile=True)\n",
    "    # now bootstrap the efficacies:\n",
    "    fnOUT = f'RTM_eff_boot_keeper_{studyChances}.csv'\n",
    "    go_read_pow_data(studyChances,fnOUT)\n",
    "   "
   ]
  },
  {
   "cell_type": "code",
   "execution_count": 1,
   "metadata": {},
   "outputs": [
    {
     "data": {
      "application/vnd.jupyter.widget-view+json": {
       "model_id": "9e175c4e55884d10b779f6b29151c0c8",
       "version_major": 2,
       "version_minor": 0
      },
      "text/plain": [
       "0it [00:00, ?it/s]"
      ]
     },
     "metadata": {},
     "output_type": "display_data"
    },
    {
     "data": {
      "application/vnd.jupyter.widget-view+json": {
       "model_id": "414b23f94b5747749c9ed7e9a6512ce9",
       "version_major": 2,
       "version_minor": 0
      },
      "text/plain": [
       "0it [00:00, ?it/s]"
      ]
     },
     "metadata": {},
     "output_type": "display_data"
    },
    {
     "data": {
      "application/vnd.jupyter.widget-view+json": {
       "model_id": "5ae90a2717d7467688295875929147ab",
       "version_major": 2,
       "version_minor": 0
      },
      "text/plain": [
       "0it [00:00, ?it/s]"
      ]
     },
     "metadata": {},
     "output_type": "display_data"
    },
    {
     "data": {
      "application/vnd.jupyter.widget-view+json": {
       "model_id": "bd7a03eb022b4cd89dced2a22c10a1a0",
       "version_major": 2,
       "version_minor": 0
      },
      "text/plain": [
       "0it [00:00, ?it/s]"
      ]
     },
     "metadata": {},
     "output_type": "display_data"
    },
    {
     "data": {
      "application/vnd.jupyter.widget-view+json": {
       "model_id": "0147377cf8534e989c2fed828b131576",
       "version_major": 2,
       "version_minor": 0
      },
      "text/plain": [
       "0it [00:00, ?it/s]"
      ]
     },
     "metadata": {},
     "output_type": "display_data"
    },
    {
     "data": {
      "application/vnd.jupyter.widget-view+json": {
       "model_id": "433798626b7b450caab8118881260203",
       "version_major": 2,
       "version_minor": 0
      },
      "text/plain": [
       "0it [00:00, ?it/s]"
      ]
     },
     "metadata": {},
     "output_type": "display_data"
    },
    {
     "data": {
      "application/vnd.jupyter.widget-view+json": {
       "model_id": "303e8050ea404687858443df1223020d",
       "version_major": 2,
       "version_minor": 0
      },
      "text/plain": [
       "0it [00:00, ?it/s]"
      ]
     },
     "metadata": {},
     "output_type": "display_data"
    }
   ],
   "source": [
    "%reload_ext autoreload\n",
    "%autoreload 2\n",
    "from RTM_funcs import go_read_pow_data\n",
    "for studyChances in [24,6,12,18,36,48,120]:\n",
    "    fnOUT = f'RTM_eff_boot_keeper_{studyChances}.csv'\n",
    "    go_read_pow_data(studyChances,fnOUT)\n",
    "    "
   ]
  },
  {
   "cell_type": "code",
   "execution_count": 7,
   "metadata": {},
   "outputs": [
    {
     "name": "stdout",
     "output_type": "stream",
     "text": [
      "24\n",
      "      N  Minimum rate (sz./mo.)  DRG  PCB  history  Include baseline    diffR  \\\n",
      "0   400                       0  0.2    0        1              True   8.7660   \n",
      "1   400                       1  0.2    0        1              True   9.3238   \n",
      "2   400                       2  0.2    0        1              True   9.6848   \n",
      "3   400                       3  0.2    0        1              True   9.9279   \n",
      "4   400                       4  0.2    0        1              True  10.3546   \n",
      "5   400                       5  0.2    0        1              True  10.6574   \n",
      "6   400                       6  0.2    0        1              True  11.0847   \n",
      "7   400                       7  0.2    0        1              True  11.1662   \n",
      "8   400                       8  0.2    0        1              True  11.5202   \n",
      "9   400                       0  0.2    0        3             False   8.7238   \n",
      "10  400                       1  0.2    0        3             False   9.8012   \n",
      "11  400                       2  0.2    0        3             False  10.6921   \n",
      "12  400                       3  0.2    0        3             False  11.2911   \n",
      "13  400                       4  0.2    0        3             False  11.8251   \n",
      "14  400                       5  0.2    0        3             False  12.3238   \n",
      "15  400                       6  0.2    0        3             False  12.5261   \n",
      "16  400                       7  0.2    0        3             False  12.7717   \n",
      "17  400                       8  0.2    0        3             False  12.7233   \n",
      "\n",
      "        diffM    PCB_R      PCB_M  RR50 Power %  MPC Power % Baseline included  \n",
      "0   21.346214  21.7586   5.738388         46.76        75.50              with  \n",
      "1   20.716935  24.0262   9.718733         49.58        77.70              with  \n",
      "2   19.103950  25.3815  12.649037         52.56        80.24              with  \n",
      "3   17.631132  26.1119  14.957587         54.08        80.92              with  \n",
      "4   16.963430  25.8167  16.314794         57.40        84.34              with  \n",
      "5   16.562458  25.4920  17.424851         59.52        85.58              with  \n",
      "6   16.306960  25.2161  18.292827         63.46        88.36              with  \n",
      "7   15.965144  25.0286  19.029618         64.08        88.62              with  \n",
      "8   15.942748  24.7606  19.569257         67.30        89.64              with  \n",
      "9   20.698004  21.4826   4.564920         47.16        75.54           without  \n",
      "10  19.412228  23.9409  11.519871         54.48        80.68           without  \n",
      "11  17.914462  22.6942  13.645962         62.78        87.54           without  \n",
      "12  17.490893  21.0472  14.309639         68.90        90.62           without  \n",
      "13  17.222023  19.7389  14.818800         73.84        93.20           without  \n",
      "14  17.159245  18.8188  15.204796         78.54        95.04           without  \n",
      "15  16.936453  18.3799  15.685229         80.08        95.24           without  \n",
      "16  17.021780  18.2481  16.107840         82.42        95.68           without  \n",
      "17  16.689574  18.4864  16.814786         81.48        95.30           without  \n",
      "done\n"
     ]
    },
    {
     "data": {
      "image/png": "[encoded data removed]",
      "text/plain": [
       "<Figure size 800x800 with 6 Axes>"
      ]
     },
     "metadata": {},
     "output_type": "display_data"
    }
   ],
   "source": [
    "%reload_ext autoreload\n",
    "%autoreload 2\n",
    "from RTM_funcs import draw_all_fracSets_noSF\n",
    "import matplotlib.pyplot as plt\n",
    "#Slist = [6,12,18,24,36,48,120]\n",
    "Slist= [24]\n",
    "for studyChances in Slist:\n",
    "    print(studyChances)\n",
    "    draw_all_fracSets_noSF(showFull=False,studyChances=studyChances,with_error=True)\n",
    "    if studyChances==24:\n",
    "        plt.savefig('Fig2.png',dpi=300)\n",
    "    plt.show()\n",
    "    "
   ]
  },
  {
   "cell_type": "code",
   "execution_count": 19,
   "metadata": {},
   "outputs": [
    {
     "data": {
      "image/png": "[encoded data removed]",
      "text/plain": [
       "<Figure size 800x800 with 6 Axes>"
      ]
     },
     "metadata": {},
     "output_type": "display_data"
    }
   ],
   "source": [
    "%reload_ext autoreload\n",
    "%autoreload 2\n",
    "from RTM_funcs import draw_all_fracSets_noSF\n",
    "\n",
    "\n",
    "    #draw_all_fracSets_noSF(showFull=False,studyChances=studyChances)"
   ]
  },
  {
   "cell_type": "code",
   "execution_count": 12,
   "metadata": {},
   "outputs": [
    {
     "data": {
      "application/vnd.jupyter.widget-view+json": {
       "model_id": "81a5930de3874af6ae1189a2201bc478",
       "version_major": 2,
       "version_minor": 0
      },
      "text/plain": [
       "0it [00:00, ?it/s]"
      ]
     },
     "metadata": {},
     "output_type": "display_data"
    },
    {
     "name": "stderr",
     "output_type": "stream",
     "text": [
      "/Users/danielgoldenholz/Documents/GitHub/RCT-simulator-RTM/RTM_funcs.py:1057: RuntimeWarning: invalid value encountered in divide\n",
      "  PC = 100*np.divide(Blist-Tlist,Blist)\n",
      "/Users/danielgoldenholz/Documents/GitHub/RCT-simulator-RTM/RTM_funcs.py:1065: RuntimeWarning: Mean of empty slice\n",
      "  RTMfrac[6] = np.nanmean(PC[np.logical_and(eligible_times,~np.isinf(PC))])\n",
      "/Users/danielgoldenholz/Documents/GitHub/RCT-simulator-RTM/RTM_funcs.py:1057: RuntimeWarning: divide by zero encountered in divide\n",
      "  PC = 100*np.divide(Blist-Tlist,Blist)\n",
      "/Users/danielgoldenholz/miniforge3/envs/deep4/lib/python3.10/site-packages/numpy/core/fromnumeric.py:3432: RuntimeWarning: Mean of empty slice.\n",
      "  return _methods._mean(a, axis=axis, dtype=dtype,\n",
      "/Users/danielgoldenholz/miniforge3/envs/deep4/lib/python3.10/site-packages/numpy/core/_methods.py:190: RuntimeWarning: invalid value encountered in double_scalars\n",
      "  ret = ret.dtype.type(ret / rcount)\n",
      "/Users/danielgoldenholz/miniforge3/envs/deep4/lib/python3.10/site-packages/numpy/core/fromnumeric.py:3432: RuntimeWarning: Mean of empty slice.\n",
      "  return _methods._mean(a, axis=axis, dtype=dtype,\n",
      "/Users/danielgoldenholz/miniforge3/envs/deep4/lib/python3.10/site-packages/numpy/core/_methods.py:190: RuntimeWarning: invalid value encountered in double_scalars\n",
      "  ret = ret.dtype.type(ret / rcount)\n",
      "/Users/danielgoldenholz/Documents/GitHub/RCT-simulator-RTM/RTM_funcs.py:1065: RuntimeWarning: Mean of empty slice\n",
      "  RTMfrac[6] = np.nanmean(PC[np.logical_and(eligible_times,~np.isinf(PC))])\n",
      "/Users/danielgoldenholz/Documents/GitHub/RCT-simulator-RTM/RTM_funcs.py:1057: RuntimeWarning: divide by zero encountered in divide\n",
      "  PC = 100*np.divide(Blist-Tlist,Blist)\n",
      "/Users/danielgoldenholz/Documents/GitHub/RCT-simulator-RTM/RTM_funcs.py:1057: RuntimeWarning: invalid value encountered in divide\n",
      "  PC = 100*np.divide(Blist-Tlist,Blist)\n",
      "/Users/danielgoldenholz/Documents/GitHub/RCT-simulator-RTM/RTM_funcs.py:1057: RuntimeWarning: divide by zero encountered in divide\n",
      "  PC = 100*np.divide(Blist-Tlist,Blist)\n",
      "/Users/danielgoldenholz/miniforge3/envs/deep4/lib/python3.10/site-packages/numpy/core/fromnumeric.py:3432: RuntimeWarning: Mean of empty slice.\n",
      "  return _methods._mean(a, axis=axis, dtype=dtype,\n",
      "/Users/danielgoldenholz/miniforge3/envs/deep4/lib/python3.10/site-packages/numpy/core/_methods.py:190: RuntimeWarning: invalid value encountered in double_scalars\n",
      "  ret = ret.dtype.type(ret / rcount)\n",
      "/Users/danielgoldenholz/Documents/GitHub/RCT-simulator-RTM/RTM_funcs.py:1065: RuntimeWarning: Mean of empty slice\n",
      "  RTMfrac[6] = np.nanmean(PC[np.logical_and(eligible_times,~np.isinf(PC))])\n",
      "/Users/danielgoldenholz/Documents/GitHub/RCT-simulator-RTM/RTM_funcs.py:1057: RuntimeWarning: invalid value encountered in divide\n",
      "  PC = 100*np.divide(Blist-Tlist,Blist)\n",
      "/Users/danielgoldenholz/miniforge3/envs/deep4/lib/python3.10/site-packages/numpy/core/fromnumeric.py:3432: RuntimeWarning: Mean of empty slice.\n",
      "  return _methods._mean(a, axis=axis, dtype=dtype,\n",
      "/Users/danielgoldenholz/miniforge3/envs/deep4/lib/python3.10/site-packages/numpy/core/_methods.py:190: RuntimeWarning: invalid value encountered in double_scalars\n",
      "  ret = ret.dtype.type(ret / rcount)\n",
      "/Users/danielgoldenholz/Documents/GitHub/RCT-simulator-RTM/RTM_funcs.py:1065: RuntimeWarning: Mean of empty slice\n",
      "  RTMfrac[6] = np.nanmean(PC[np.logical_and(eligible_times,~np.isinf(PC))])\n",
      "/Users/danielgoldenholz/Documents/GitHub/RCT-simulator-RTM/RTM_funcs.py:1057: RuntimeWarning: invalid value encountered in divide\n",
      "  PC = 100*np.divide(Blist-Tlist,Blist)\n",
      "/Users/danielgoldenholz/Documents/GitHub/RCT-simulator-RTM/RTM_funcs.py:1057: RuntimeWarning: divide by zero encountered in divide\n",
      "  PC = 100*np.divide(Blist-Tlist,Blist)\n",
      "/Users/danielgoldenholz/miniforge3/envs/deep4/lib/python3.10/site-packages/numpy/core/fromnumeric.py:3432: RuntimeWarning: Mean of empty slice.\n",
      "  return _methods._mean(a, axis=axis, dtype=dtype,\n",
      "/Users/danielgoldenholz/miniforge3/envs/deep4/lib/python3.10/site-packages/numpy/core/_methods.py:190: RuntimeWarning: invalid value encountered in double_scalars\n",
      "  ret = ret.dtype.type(ret / rcount)\n",
      "/Users/danielgoldenholz/Documents/GitHub/RCT-simulator-RTM/RTM_funcs.py:1065: RuntimeWarning: Mean of empty slice\n",
      "  RTMfrac[6] = np.nanmean(PC[np.logical_and(eligible_times,~np.isinf(PC))])\n",
      "/Users/danielgoldenholz/Documents/GitHub/RCT-simulator-RTM/RTM_funcs.py:1057: RuntimeWarning: invalid value encountered in divide\n",
      "  PC = 100*np.divide(Blist-Tlist,Blist)\n",
      "/Users/danielgoldenholz/Documents/GitHub/RCT-simulator-RTM/RTM_funcs.py:1057: RuntimeWarning: divide by zero encountered in divide\n",
      "  PC = 100*np.divide(Blist-Tlist,Blist)\n",
      "/Users/danielgoldenholz/Documents/GitHub/RCT-simulator-RTM/RTM_funcs.py:1057: RuntimeWarning: invalid value encountered in divide\n",
      "  PC = 100*np.divide(Blist-Tlist,Blist)\n",
      "/Users/danielgoldenholz/miniforge3/envs/deep4/lib/python3.10/site-packages/numpy/core/fromnumeric.py:3432: RuntimeWarning: Mean of empty slice.\n",
      "  return _methods._mean(a, axis=axis, dtype=dtype,\n",
      "/Users/danielgoldenholz/miniforge3/envs/deep4/lib/python3.10/site-packages/numpy/core/_methods.py:190: RuntimeWarning: invalid value encountered in double_scalars\n",
      "  ret = ret.dtype.type(ret / rcount)\n",
      "/Users/danielgoldenholz/Documents/GitHub/RCT-simulator-RTM/RTM_funcs.py:1065: RuntimeWarning: Mean of empty slice\n",
      "  RTMfrac[6] = np.nanmean(PC[np.logical_and(eligible_times,~np.isinf(PC))])\n",
      "/Users/danielgoldenholz/Documents/GitHub/RCT-simulator-RTM/RTM_funcs.py:1057: RuntimeWarning: divide by zero encountered in divide\n",
      "  PC = 100*np.divide(Blist-Tlist,Blist)\n",
      "/Users/danielgoldenholz/miniforge3/envs/deep4/lib/python3.10/site-packages/numpy/core/fromnumeric.py:3432: RuntimeWarning: Mean of empty slice.\n",
      "  return _methods._mean(a, axis=axis, dtype=dtype,\n",
      "/Users/danielgoldenholz/miniforge3/envs/deep4/lib/python3.10/site-packages/numpy/core/_methods.py:190: RuntimeWarning: invalid value encountered in double_scalars\n",
      "  ret = ret.dtype.type(ret / rcount)\n",
      "/Users/danielgoldenholz/Documents/GitHub/RCT-simulator-RTM/RTM_funcs.py:1065: RuntimeWarning: Mean of empty slice\n",
      "  RTMfrac[6] = np.nanmean(PC[np.logical_and(eligible_times,~np.isinf(PC))])\n",
      "/Users/danielgoldenholz/Documents/GitHub/RCT-simulator-RTM/RTM_funcs.py:1057: RuntimeWarning: divide by zero encountered in divide\n",
      "  PC = 100*np.divide(Blist-Tlist,Blist)\n",
      "/Users/danielgoldenholz/Documents/GitHub/RCT-simulator-RTM/RTM_funcs.py:1057: RuntimeWarning: invalid value encountered in divide\n",
      "  PC = 100*np.divide(Blist-Tlist,Blist)\n"
     ]
    },
    {
     "name": "stdout",
     "output_type": "stream",
     "text": [
      "fracsSetAll_once_True_1.csv\n"
     ]
    },
    {
     "data": {
      "application/vnd.jupyter.widget-view+json": {
       "model_id": "d7fe0a5f38f548f0b5e741ccce842214",
       "version_major": 2,
       "version_minor": 0
      },
      "text/plain": [
       "0it [00:00, ?it/s]"
      ]
     },
     "metadata": {},
     "output_type": "display_data"
    },
    {
     "name": "stderr",
     "output_type": "stream",
     "text": [
      "/Users/danielgoldenholz/Documents/GitHub/RCT-simulator-RTM/RTM_funcs.py:1057: RuntimeWarning: divide by zero encountered in divide\n",
      "  PC = 100*np.divide(Blist-Tlist,Blist)\n",
      "/Users/danielgoldenholz/Documents/GitHub/RCT-simulator-RTM/RTM_funcs.py:1065: RuntimeWarning: Mean of empty slice\n",
      "  RTMfrac[6] = np.nanmean(PC[np.logical_and(eligible_times,~np.isinf(PC))])\n",
      "/Users/danielgoldenholz/Documents/GitHub/RCT-simulator-RTM/RTM_funcs.py:1057: RuntimeWarning: invalid value encountered in divide\n",
      "  PC = 100*np.divide(Blist-Tlist,Blist)\n",
      "/Users/danielgoldenholz/miniforge3/envs/deep4/lib/python3.10/site-packages/numpy/core/fromnumeric.py:3432: RuntimeWarning: Mean of empty slice.\n",
      "  return _methods._mean(a, axis=axis, dtype=dtype,\n",
      "/Users/danielgoldenholz/miniforge3/envs/deep4/lib/python3.10/site-packages/numpy/core/_methods.py:190: RuntimeWarning: invalid value encountered in double_scalars\n",
      "  ret = ret.dtype.type(ret / rcount)\n",
      "/Users/danielgoldenholz/miniforge3/envs/deep4/lib/python3.10/site-packages/numpy/core/fromnumeric.py:3432: RuntimeWarning: Mean of empty slice.\n",
      "  return _methods._mean(a, axis=axis, dtype=dtype,\n",
      "/Users/danielgoldenholz/miniforge3/envs/deep4/lib/python3.10/site-packages/numpy/core/_methods.py:190: RuntimeWarning: invalid value encountered in double_scalars\n",
      "  ret = ret.dtype.type(ret / rcount)\n",
      "/Users/danielgoldenholz/Documents/GitHub/RCT-simulator-RTM/RTM_funcs.py:1065: RuntimeWarning: Mean of empty slice\n",
      "  RTMfrac[6] = np.nanmean(PC[np.logical_and(eligible_times,~np.isinf(PC))])\n",
      "/Users/danielgoldenholz/Documents/GitHub/RCT-simulator-RTM/RTM_funcs.py:1057: RuntimeWarning: divide by zero encountered in divide\n",
      "  PC = 100*np.divide(Blist-Tlist,Blist)\n",
      "/Users/danielgoldenholz/Documents/GitHub/RCT-simulator-RTM/RTM_funcs.py:1057: RuntimeWarning: invalid value encountered in divide\n",
      "  PC = 100*np.divide(Blist-Tlist,Blist)\n",
      "/Users/danielgoldenholz/miniforge3/envs/deep4/lib/python3.10/site-packages/numpy/core/fromnumeric.py:3432: RuntimeWarning: Mean of empty slice.\n",
      "  return _methods._mean(a, axis=axis, dtype=dtype,\n",
      "/Users/danielgoldenholz/miniforge3/envs/deep4/lib/python3.10/site-packages/numpy/core/_methods.py:190: RuntimeWarning: invalid value encountered in double_scalars\n",
      "  ret = ret.dtype.type(ret / rcount)\n",
      "/Users/danielgoldenholz/Documents/GitHub/RCT-simulator-RTM/RTM_funcs.py:1065: RuntimeWarning: Mean of empty slice\n",
      "  RTMfrac[6] = np.nanmean(PC[np.logical_and(eligible_times,~np.isinf(PC))])\n",
      "/Users/danielgoldenholz/Documents/GitHub/RCT-simulator-RTM/RTM_funcs.py:1057: RuntimeWarning: invalid value encountered in divide\n",
      "  PC = 100*np.divide(Blist-Tlist,Blist)\n",
      "/Users/danielgoldenholz/Documents/GitHub/RCT-simulator-RTM/RTM_funcs.py:1057: RuntimeWarning: divide by zero encountered in divide\n",
      "  PC = 100*np.divide(Blist-Tlist,Blist)\n",
      "/Users/danielgoldenholz/miniforge3/envs/deep4/lib/python3.10/site-packages/numpy/core/fromnumeric.py:3432: RuntimeWarning: Mean of empty slice.\n",
      "  return _methods._mean(a, axis=axis, dtype=dtype,\n",
      "/Users/danielgoldenholz/miniforge3/envs/deep4/lib/python3.10/site-packages/numpy/core/_methods.py:190: RuntimeWarning: invalid value encountered in double_scalars\n",
      "  ret = ret.dtype.type(ret / rcount)\n",
      "/Users/danielgoldenholz/Documents/GitHub/RCT-simulator-RTM/RTM_funcs.py:1065: RuntimeWarning: Mean of empty slice\n",
      "  RTMfrac[6] = np.nanmean(PC[np.logical_and(eligible_times,~np.isinf(PC))])\n",
      "/Users/danielgoldenholz/Documents/GitHub/RCT-simulator-RTM/RTM_funcs.py:1057: RuntimeWarning: divide by zero encountered in divide\n",
      "  PC = 100*np.divide(Blist-Tlist,Blist)\n",
      "/Users/danielgoldenholz/Documents/GitHub/RCT-simulator-RTM/RTM_funcs.py:1057: RuntimeWarning: invalid value encountered in divide\n",
      "  PC = 100*np.divide(Blist-Tlist,Blist)\n",
      "/Users/danielgoldenholz/miniforge3/envs/deep4/lib/python3.10/site-packages/numpy/core/fromnumeric.py:3432: RuntimeWarning: Mean of empty slice.\n",
      "  return _methods._mean(a, axis=axis, dtype=dtype,\n",
      "/Users/danielgoldenholz/miniforge3/envs/deep4/lib/python3.10/site-packages/numpy/core/_methods.py:190: RuntimeWarning: invalid value encountered in double_scalars\n",
      "  ret = ret.dtype.type(ret / rcount)\n",
      "/Users/danielgoldenholz/Documents/GitHub/RCT-simulator-RTM/RTM_funcs.py:1065: RuntimeWarning: Mean of empty slice\n",
      "  RTMfrac[6] = np.nanmean(PC[np.logical_and(eligible_times,~np.isinf(PC))])\n",
      "/Users/danielgoldenholz/Documents/GitHub/RCT-simulator-RTM/RTM_funcs.py:1057: RuntimeWarning: divide by zero encountered in divide\n",
      "  PC = 100*np.divide(Blist-Tlist,Blist)\n",
      "/Users/danielgoldenholz/Documents/GitHub/RCT-simulator-RTM/RTM_funcs.py:1057: RuntimeWarning: invalid value encountered in divide\n",
      "  PC = 100*np.divide(Blist-Tlist,Blist)\n",
      "/Users/danielgoldenholz/Documents/GitHub/RCT-simulator-RTM/RTM_funcs.py:1057: RuntimeWarning: invalid value encountered in divide\n",
      "  PC = 100*np.divide(Blist-Tlist,Blist)\n",
      "/Users/danielgoldenholz/miniforge3/envs/deep4/lib/python3.10/site-packages/numpy/core/fromnumeric.py:3432: RuntimeWarning: Mean of empty slice.\n",
      "  return _methods._mean(a, axis=axis, dtype=dtype,\n",
      "/Users/danielgoldenholz/miniforge3/envs/deep4/lib/python3.10/site-packages/numpy/core/_methods.py:190: RuntimeWarning: invalid value encountered in double_scalars\n",
      "  ret = ret.dtype.type(ret / rcount)\n",
      "/Users/danielgoldenholz/Documents/GitHub/RCT-simulator-RTM/RTM_funcs.py:1065: RuntimeWarning: Mean of empty slice\n",
      "  RTMfrac[6] = np.nanmean(PC[np.logical_and(eligible_times,~np.isinf(PC))])\n",
      "/Users/danielgoldenholz/Documents/GitHub/RCT-simulator-RTM/RTM_funcs.py:1057: RuntimeWarning: divide by zero encountered in divide\n",
      "  PC = 100*np.divide(Blist-Tlist,Blist)\n",
      "/Users/danielgoldenholz/Documents/GitHub/RCT-simulator-RTM/RTM_funcs.py:1057: RuntimeWarning: invalid value encountered in divide\n",
      "  PC = 100*np.divide(Blist-Tlist,Blist)\n",
      "/Users/danielgoldenholz/miniforge3/envs/deep4/lib/python3.10/site-packages/numpy/core/fromnumeric.py:3432: RuntimeWarning: Mean of empty slice.\n",
      "  return _methods._mean(a, axis=axis, dtype=dtype,\n",
      "/Users/danielgoldenholz/miniforge3/envs/deep4/lib/python3.10/site-packages/numpy/core/_methods.py:190: RuntimeWarning: invalid value encountered in double_scalars\n",
      "  ret = ret.dtype.type(ret / rcount)\n",
      "/Users/danielgoldenholz/Documents/GitHub/RCT-simulator-RTM/RTM_funcs.py:1065: RuntimeWarning: Mean of empty slice\n",
      "  RTMfrac[6] = np.nanmean(PC[np.logical_and(eligible_times,~np.isinf(PC))])\n",
      "/Users/danielgoldenholz/Documents/GitHub/RCT-simulator-RTM/RTM_funcs.py:1057: RuntimeWarning: divide by zero encountered in divide\n",
      "  PC = 100*np.divide(Blist-Tlist,Blist)\n"
     ]
    },
    {
     "name": "stdout",
     "output_type": "stream",
     "text": [
      "fracsSetAll_once_False_3.csv\n"
     ]
    }
   ],
   "source": [
    "%reload_ext autoreload\n",
    "%autoreload 2\n",
    "from RTM_funcs import build_a_set_of_frac_noSF_once\n",
    "build_a_set_of_frac_noSF_once()"
   ]
  },
  {
   "cell_type": "code",
   "execution_count": 10,
   "metadata": {},
   "outputs": [
    {
     "name": "stdout",
     "output_type": "stream",
     "text": [
      "    Minimum rate (sz./mo.)  hist  Include baseline  Fraction of total  \\\n",
      "0                      0.0     1              True          25.400000   \n",
      "6                      1.0     1              True          35.243800   \n",
      "12                     2.0     1              True          38.749144   \n",
      "18                     3.0     1              True          41.934816   \n",
      "24                     4.0     1              True          43.547962   \n",
      "30                     5.0     1              True          44.117584   \n",
      "36                     6.0     1              True          45.220755   \n",
      "42                     7.0     1              True          47.458229   \n",
      "48                     8.0     1              True          46.707250   \n",
      "0                      0.0     3             False          25.250400   \n",
      "6                      1.0     3             False          24.874856   \n",
      "12                     2.0     3             False          24.663023   \n",
      "18                     3.0     3             False          24.221802   \n",
      "24                     4.0     3             False          23.379845   \n",
      "30                     5.0     3             False          23.305065   \n",
      "36                     6.0     3             False          23.729736   \n",
      "42                     7.0     3             False          23.163551   \n",
      "48                     8.0     3             False          23.613592   \n",
      "\n",
      "    fracInd  Median % change  RR50 %            type Baseline included  \n",
      "0         0       -20.289855    8.62  Improved - RTM              with  \n",
      "6         0       -16.262626    9.14  Improved - RTM              with  \n",
      "12        0       -10.856954    7.16  Improved - RTM              with  \n",
      "18        0        -6.559277    6.46  Improved - RTM              with  \n",
      "24        0        -4.127968    5.36  Improved - RTM              with  \n",
      "30        0        -3.057734    4.26  Improved - RTM              with  \n",
      "36        0        -0.667660    3.20  Improved - RTM              with  \n",
      "42        0         2.085955    3.00  Improved - RTM              with  \n",
      "48        0         0.058840    2.36  Improved - RTM              with  \n",
      "0         0       -21.206999    8.12  Improved - RTM           without  \n",
      "6         0       -23.522893    3.92  Improved - RTM           without  \n",
      "12        0       -25.167203    2.14  Improved - RTM           without  \n",
      "18        0       -23.886299    1.50  Improved - RTM           without  \n",
      "24        0       -24.007937    0.98  Improved - RTM           without  \n",
      "30        0       -24.827316    0.62  Improved - RTM           without  \n",
      "36        0       -25.502906    0.52  Improved - RTM           without  \n",
      "42        0       -28.507137    0.38  Improved - RTM           without  \n",
      "48        0       -28.649357    0.34  Improved - RTM           without  \n",
      "      N  Minimum rate (sz./mo.)  DRG  PCB  history  Include baseline    diffR  \\\n",
      "0   400                       0  0.2    0        1              True   8.7660   \n",
      "1   400                       1  0.2    0        1              True   9.3238   \n",
      "2   400                       2  0.2    0        1              True   9.6848   \n",
      "3   400                       3  0.2    0        1              True   9.9279   \n",
      "4   400                       4  0.2    0        1              True  10.3546   \n",
      "5   400                       5  0.2    0        1              True  10.6574   \n",
      "6   400                       6  0.2    0        1              True  11.0847   \n",
      "7   400                       7  0.2    0        1              True  11.1662   \n",
      "8   400                       8  0.2    0        1              True  11.5202   \n",
      "9   400                       0  0.2    0        3             False   8.7238   \n",
      "10  400                       1  0.2    0        3             False   9.8012   \n",
      "11  400                       2  0.2    0        3             False  10.6921   \n",
      "12  400                       3  0.2    0        3             False  11.2911   \n",
      "13  400                       4  0.2    0        3             False  11.8251   \n",
      "14  400                       5  0.2    0        3             False  12.3238   \n",
      "15  400                       6  0.2    0        3             False  12.5261   \n",
      "16  400                       7  0.2    0        3             False  12.7717   \n",
      "17  400                       8  0.2    0        3             False  12.7233   \n",
      "\n",
      "        diffM    PCB_R      PCB_M  RR50 Power %  MPC Power % Baseline included  \n",
      "0   21.346214  21.7586   5.738388         46.76        75.50              with  \n",
      "1   20.716935  24.0262   9.718733         49.58        77.70              with  \n",
      "2   19.103950  25.3815  12.649037         52.56        80.24              with  \n",
      "3   17.631132  26.1119  14.957587         54.08        80.92              with  \n",
      "4   16.963430  25.8167  16.314794         57.40        84.34              with  \n",
      "5   16.562458  25.4920  17.424851         59.52        85.58              with  \n",
      "6   16.306960  25.2161  18.292827         63.46        88.36              with  \n",
      "7   15.965144  25.0286  19.029618         64.08        88.62              with  \n",
      "8   15.942748  24.7606  19.569257         67.30        89.64              with  \n",
      "9   20.698004  21.4826   4.564920         47.16        75.54           without  \n",
      "10  19.412228  23.9409  11.519871         54.48        80.68           without  \n",
      "11  17.914462  22.6942  13.645962         62.78        87.54           without  \n",
      "12  17.490893  21.0472  14.309639         68.90        90.62           without  \n",
      "13  17.222023  19.7389  14.818800         73.84        93.20           without  \n",
      "14  17.159245  18.8188  15.204796         78.54        95.04           without  \n",
      "15  16.936453  18.3799  15.685229         80.08        95.24           without  \n",
      "16  17.021780  18.2481  16.107840         82.42        95.68           without  \n",
      "17  16.689574  18.4864  16.814786         81.48        95.30           without  \n",
      "done\n"
     ]
    },
    {
     "data": {
      "image/png": "[encoded data removed]",
      "text/plain": [
       "<Figure size 800x800 with 6 Axes>"
      ]
     },
     "metadata": {},
     "output_type": "display_data"
    }
   ],
   "source": [
    "%reload_ext autoreload\n",
    "%autoreload 2\n",
    "from RTM_funcs import draw_all_fracSets_noSF\n",
    "draw_all_fracSets_noSF(showFull=False,studyChances=24)\n",
    "\n",
    "plt.savefig('Fig2.png',dpi=300)\n",
    "plt.show()"
   ]
  },
  {
   "cell_type": "code",
   "execution_count": null,
   "metadata": {},
   "outputs": [],
   "source": [
    "from RTM_funcs import build_minSz_findN_pow\n",
    "build_minSz_findN_pow(minSz=4,fn='Low-high-testv6.csv')\n",
    "build_minSz_findN_pow(minSz=2,'Low-high-testv6-withMin2.csv')\n"
   ]
  },
  {
   "cell_type": "code",
   "execution_count": 3,
   "metadata": {},
   "outputs": [
    {
     "data": {
      "image/png": "[encoded data removed]",
      "text/plain": [
       "<Figure size 800x400 with 2 Axes>"
      ]
     },
     "metadata": {},
     "output_type": "display_data"
    }
   ],
   "source": [
    "import pandas as pd\n",
    "import matplotlib.pyplot as plt\n",
    "import seaborn as sns\n",
    "d = pd.DataFrame({'MPC N':[350,500,450,550],'RR50 N':[600,900,750,1050],'Baseline Included':['without','with','without','with'],\n",
    "                  'Minimum rate (sz/mo)':[4,4,2,2]})\n",
    "f= plt.figure(figsize=(8,4))\n",
    "plt.subplot(1,2,1)\n",
    "ax = sns.barplot(data=d,x='Minimum rate (sz/mo)',y='MPC N',hue='Baseline Included',palette=['black','gray'])\n",
    "ax.legend_.remove()\n",
    "plt.grid(True)\n",
    "plt.title('N for 90% power MPC')\n",
    "plt.subplot(1,2,2)\n",
    "sns.barplot(data=d,x='Minimum rate (sz/mo)',y='RR50 N',hue='Baseline Included',palette=['black','gray'])\n",
    "plt.legend(bbox_to_anchor=(1.02, 0.8),title='Baseline Included')\n",
    "plt.grid(True)\n",
    "plt.title('N for 90% power RR50')\n",
    "\n",
    "f.tight_layout(pad=2)\n",
    "plt.savefig('Fig3.png',dpi=300)"
   ]
  }
 ],
 "metadata": {
  "kernelspec": {
   "display_name": "deep4",
   "language": "python",
   "name": "python3"
  },
  "language_info": {
   "codemirror_mode": {
    "name": "ipython",
    "version": 3
   },
   "file_extension": ".py",
   "mimetype": "text/x-python",
   "name": "python",
   "nbconvert_exporter": "python",
   "pygments_lexer": "ipython3",
   "version": "3.10.8"
  },
  "orig_nbformat": 4
 },
 "nbformat": 4,
 "nbformat_minor": 2
}
